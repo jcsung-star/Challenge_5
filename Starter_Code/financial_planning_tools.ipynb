{
 "cells": [
  {
   "cell_type": "markdown",
   "metadata": {},
   "source": [
    "# Financial Planning with APIs and Simulations\n",
    "\n",
    "In this Challenge, you’ll create two financial analysis tools by using a single Jupyter notebook:\n",
    "\n",
    "Part 1: A financial planner for emergencies. The members will be able to use this tool to visualize their current savings. The members can then determine if they have enough reserves for an emergency fund.\n",
    "\n",
    "Part 2: A financial planner for retirement. This tool will forecast the performance of their retirement portfolio in 30 years. To do this, the tool will make an Alpaca API call via the Alpaca SDK to get historical price data for use in Monte Carlo simulations.\n",
    "\n",
    "You’ll use the information from the Monte Carlo simulation to answer questions about the portfolio in your Jupyter notebook.\n",
    "\n"
   ]
  },
  {
   "cell_type": "code",
   "execution_count": 1,
   "metadata": {},
   "outputs": [],
   "source": [
    "# Import the required libraries and dependencies\n",
    "import os\n",
    "import requests\n",
    "import json\n",
    "import pandas as pd\n",
    "from dotenv import load_dotenv\n",
    "import alpaca_trade_api as tradeapi\n",
    "from MCForecastTools import MCSimulation\n",
    "\n",
    "%matplotlib inline"
   ]
  },
  {
   "cell_type": "code",
   "execution_count": 2,
   "metadata": {},
   "outputs": [
    {
     "data": {
      "text/plain": [
       "True"
      ]
     },
     "execution_count": 2,
     "metadata": {},
     "output_type": "execute_result"
    }
   ],
   "source": [
    "# Load the environment variables from the .env file\n",
    "# by calling the load_dotenv function\n",
    "load_dotenv()"
   ]
  },
  {
   "cell_type": "markdown",
   "metadata": {},
   "source": [
    "## Part 1: Create a Financial Planner for Emergencies"
   ]
  },
  {
   "cell_type": "markdown",
   "metadata": {},
   "source": [
    "### Evaluate the Cryptocurrency Wallet by Using the Requests Library\n",
    "\n",
    "In this section, you’ll determine the current value of a member’s cryptocurrency wallet. You’ll collect the current prices for the Bitcoin and Ethereum cryptocurrencies by using the Python Requests library. For the prototype, you’ll assume that the member holds the 1.2 Bitcoins (BTC) and 5.3 Ethereum coins (ETH). To do all this, complete the following steps:\n",
    "\n",
    "1. Create a variable named `monthly_income`, and set its value to `12000`.\n",
    "\n",
    "2. Use the Requests library to get the current price (in US dollars) of Bitcoin (BTC) and Ethereum (ETH) by using the API endpoints that the starter code supplies.\n",
    "\n",
    "3. Navigate the JSON response object to access the current price of each coin, and store each in a variable.\n",
    "\n",
    "    > **Hint** Note the specific identifier for each cryptocurrency in the API JSON response. The Bitcoin identifier is `1`, and the Ethereum identifier is `1027`.\n",
    "\n",
    "4. Calculate the value, in US dollars, of the current amount of each cryptocurrency and of the entire cryptocurrency wallet.\n",
    "\n"
   ]
  },
  {
   "cell_type": "code",
   "execution_count": 3,
   "metadata": {},
   "outputs": [],
   "source": [
    "# The current number of coins for each cryptocurrency asset held in the portfolio.\n",
    "btc_coins = 1.2\n",
    "eth_coins = 5.3"
   ]
  },
  {
   "cell_type": "markdown",
   "metadata": {},
   "source": [
    "#### Step 1: Create a variable named `monthly_income`, and set its value to `12000`."
   ]
  },
  {
   "cell_type": "code",
   "execution_count": 4,
   "metadata": {},
   "outputs": [],
   "source": [
    "# The monthly amount for the member's household income\n",
    "monthly_income = 12000"
   ]
  },
  {
   "cell_type": "markdown",
   "metadata": {},
   "source": [
    "#### Review the endpoint URLs for the API calls to Free Crypto API in order to get the current pricing information for both BTC and ETH."
   ]
  },
  {
   "cell_type": "code",
   "execution_count": 5,
   "metadata": {},
   "outputs": [],
   "source": [
    "# The Free Crypto API Call endpoint URLs for the held cryptocurrency assets\n",
    "btc_url = \"https://api.alternative.me/v2/ticker/Bitcoin/?convert=USD\"\n",
    "eth_url = \"https://api.alternative.me/v2/ticker/Ethereum/?convert=USD\""
   ]
  },
  {
   "cell_type": "markdown",
   "metadata": {},
   "source": [
    "#### Step 2. Use the Requests library to get the current price (in US dollars) of Bitcoin (BTC) and Ethereum (ETH) by using the API endpoints that the starter code supplied."
   ]
  },
  {
   "cell_type": "code",
   "execution_count": 6,
   "metadata": {},
   "outputs": [
    {
     "name": "stdout",
     "output_type": "stream",
     "text": [
      "{\n",
      "    \"data\": {\n",
      "        \"1\": {\n",
      "            \"circulating_supply\": 18856225,\n",
      "            \"id\": 1,\n",
      "            \"last_updated\": 1635371610,\n",
      "            \"max_supply\": 21000000,\n",
      "            \"name\": \"Bitcoin\",\n",
      "            \"quotes\": {\n",
      "                \"USD\": {\n",
      "                    \"market_cap\": 1113069757924,\n",
      "                    \"percent_change_1h\": 0.418862862272553,\n",
      "                    \"percent_change_24h\": -4.0950855132471,\n",
      "                    \"percent_change_7d\": -8.40586549522251,\n",
      "                    \"percentage_change_1h\": 0.418862862272553,\n",
      "                    \"percentage_change_24h\": -4.0950855132471,\n",
      "                    \"percentage_change_7d\": -8.40586549522251,\n",
      "                    \"price\": 59094.0,\n",
      "                    \"volume_24h\": 45963798340\n",
      "                }\n",
      "            },\n",
      "            \"rank\": 1,\n",
      "            \"symbol\": \"BTC\",\n",
      "            \"total_supply\": 18856225,\n",
      "            \"website_slug\": \"bitcoin\"\n",
      "        }\n",
      "    },\n",
      "    \"metadata\": {\n",
      "        \"error\": null,\n",
      "        \"num_cryptocurrencies\": 3105,\n",
      "        \"timestamp\": 1635371610\n",
      "    }\n",
      "}\n"
     ]
    }
   ],
   "source": [
    "# Using the Python requests library, make an API call to access the current price of BTC\n",
    "btc_response = requests.get(btc_url).json()\n",
    "\n",
    "# Use the json.dumps function to review the response data from the API call\n",
    "# Use the indent and sort_keys parameters to make the response object readable\n",
    "print(json.dumps(btc_response, indent=4, sort_keys=True))"
   ]
  },
  {
   "cell_type": "code",
   "execution_count": 7,
   "metadata": {},
   "outputs": [
    {
     "name": "stdout",
     "output_type": "stream",
     "text": [
      "{\n",
      "    \"data\": {\n",
      "        \"1027\": {\n",
      "            \"circulating_supply\": 118102719,\n",
      "            \"id\": 1027,\n",
      "            \"last_updated\": 1635371594,\n",
      "            \"max_supply\": 0,\n",
      "            \"name\": \"Ethereum\",\n",
      "            \"quotes\": {\n",
      "                \"USD\": {\n",
      "                    \"market_cap\": 473585808743,\n",
      "                    \"percent_change_1h\": 0.719398483949307,\n",
      "                    \"percent_change_24h\": -5.75624760377625,\n",
      "                    \"percent_change_7d\": 3.1730415665463,\n",
      "                    \"percentage_change_1h\": 0.719398483949307,\n",
      "                    \"percentage_change_24h\": -5.75624760377625,\n",
      "                    \"percentage_change_7d\": 3.1730415665463,\n",
      "                    \"price\": 4007.85,\n",
      "                    \"volume_24h\": 30002251517\n",
      "                }\n",
      "            },\n",
      "            \"rank\": 2,\n",
      "            \"symbol\": \"ETH\",\n",
      "            \"total_supply\": 118102719,\n",
      "            \"website_slug\": \"ethereum\"\n",
      "        }\n",
      "    },\n",
      "    \"metadata\": {\n",
      "        \"error\": null,\n",
      "        \"num_cryptocurrencies\": 3105,\n",
      "        \"timestamp\": 1635371594\n",
      "    }\n",
      "}\n"
     ]
    }
   ],
   "source": [
    "# Using the Python requests library, make an API call to access the current price ETH\n",
    "eth_response = requests.get(eth_url).json()\n",
    "# Use the json.dumps function to review the response data from the API call\n",
    "# Use the indent and sort_keys parameters to make the response object readable\n",
    "print(json.dumps(eth_response, indent=4, sort_keys=True))"
   ]
  },
  {
   "cell_type": "markdown",
   "metadata": {},
   "source": [
    "#### Step 3: Navigate the JSON response object to access the current price of each coin, and store each in a variable."
   ]
  },
  {
   "cell_type": "code",
   "execution_count": 8,
   "metadata": {},
   "outputs": [
    {
     "name": "stdout",
     "output_type": "stream",
     "text": [
      "The current price of BTC is $59094.00\n"
     ]
    }
   ],
   "source": [
    "# Navigate the BTC response object to access the current price of BTC\n",
    "btc_price = btc_response['data']['1']['quotes']['USD']['price']\n",
    "\n",
    "# Print the current price of BTC\n",
    "print(f'The current price of BTC is ${btc_price:.2f}')"
   ]
  },
  {
   "cell_type": "code",
   "execution_count": 9,
   "metadata": {},
   "outputs": [
    {
     "name": "stdout",
     "output_type": "stream",
     "text": [
      "The current price of BTC is $4007.85\n"
     ]
    }
   ],
   "source": [
    "# Navigate the BTC response object to access the current price of ETH\n",
    "eth_price = eth_response['data']['1027']['quotes']['USD']['price']\n",
    "\n",
    "# Print the current price of ETH\n",
    "print(f'The current price of BTC is ${eth_price:.2f}')"
   ]
  },
  {
   "cell_type": "markdown",
   "metadata": {},
   "source": [
    "### Step 4: Calculate the value, in US dollars, of the current amount of each cryptocurrency and of the entire cryptocurrency wallet."
   ]
  },
  {
   "cell_type": "code",
   "execution_count": 10,
   "metadata": {},
   "outputs": [
    {
     "name": "stdout",
     "output_type": "stream",
     "text": [
      "The current value of the BTC holding is $70912.80\n"
     ]
    }
   ],
   "source": [
    "# Compute the current value of the BTC holding \n",
    "btc_value = btc_coins * btc_price\n",
    "\n",
    "# Print current value of your holding in BTC\n",
    "print(f'The current value of the BTC holding is ${btc_value:.2f}')"
   ]
  },
  {
   "cell_type": "code",
   "execution_count": 11,
   "metadata": {},
   "outputs": [
    {
     "name": "stdout",
     "output_type": "stream",
     "text": [
      "The current value of the ETH holding is $21241.60\n"
     ]
    }
   ],
   "source": [
    "# Compute the current value of the ETH holding \n",
    "eth_value = eth_coins * eth_price\n",
    "\n",
    "# Print current value of your holding in ETH\n",
    "print(f'The current value of the ETH holding is ${eth_value:.2f}')"
   ]
  },
  {
   "cell_type": "code",
   "execution_count": 12,
   "metadata": {},
   "outputs": [
    {
     "name": "stdout",
     "output_type": "stream",
     "text": [
      "The current cryptocurrency wallet balance is $92154.40\n"
     ]
    }
   ],
   "source": [
    "# Compute the total value of the cryptocurrency wallet\n",
    "# Add the value of the BTC holding to the value of the ETH holding\n",
    "total_crypto_wallet = btc_value + eth_value\n",
    "\n",
    "# Print current cryptocurrency wallet balance\n",
    "print(f'The current cryptocurrency wallet balance is ${total_crypto_wallet:.2f}')"
   ]
  },
  {
   "cell_type": "markdown",
   "metadata": {},
   "source": [
    "### Evaluate the Stock and Bond Holdings by Using the Alpaca SDK\n",
    "\n",
    "In this section, you’ll determine the current value of a member’s stock and bond holdings. You’ll make an API call to Alpaca via the Alpaca SDK to get the current closing prices of the SPDR S&P 500 ETF Trust (ticker: SPY) and of the iShares Core US Aggregate Bond ETF (ticker: AGG). For the prototype, assume that the member holds 110 shares of SPY, which represents the stock portion of their portfolio, and 200 shares of AGG, which represents the bond portion. To do all this, complete the following steps:\n",
    "\n",
    "1. In the `Starter_Code` folder, create an environment file (`.env`) to store the values of your Alpaca API key and Alpaca secret key.\n",
    "\n",
    "2. Set the variables for the Alpaca API and secret keys. Using the Alpaca SDK, create the Alpaca `tradeapi.REST` object. In this object, include the parameters for the Alpaca API key, the secret key, and the version number.\n",
    "\n",
    "3. Set the following parameters for the Alpaca API call:\n",
    "\n",
    "    - `tickers`: Use the tickers for the member’s stock and bond holdings.\n",
    "\n",
    "    - `timeframe`: Use a time frame of one day.\n",
    "\n",
    "    - `start_date` and `end_date`: Use the same date for these parameters, and format them with the date of the previous weekday (or `2020-08-07`). This is because you want the one closing price for the most-recent trading day.\n",
    "\n",
    "4. Get the current closing prices for `SPY` and `AGG` by using the Alpaca `get_barset` function. Format the response as a Pandas DataFrame by including the `df` property at the end of the `get_barset` function.\n",
    "\n",
    "5. Navigating the Alpaca response DataFrame, select the `SPY` and `AGG` closing prices, and store them as variables.\n",
    "\n",
    "6. Calculate the value, in US dollars, of the current amount of shares in each of the stock and bond portions of the portfolio, and print the results.\n"
   ]
  },
  {
   "cell_type": "markdown",
   "metadata": {},
   "source": [
    "#### Review the total number of shares held in both (SPY) and (AGG)."
   ]
  },
  {
   "cell_type": "code",
   "execution_count": 13,
   "metadata": {},
   "outputs": [],
   "source": [
    "# Current amount of shares held in both the stock (SPY) and bond (AGG) portion of the portfolio.\n",
    "spy_shares = 110\n",
    "agg_shares = 200\n"
   ]
  },
  {
   "cell_type": "markdown",
   "metadata": {},
   "source": [
    "#### Step 1: In the `Starter_Code` folder, create an environment file (`.env`) to store the values of your Alpaca API key and Alpaca secret key."
   ]
  },
  {
   "cell_type": "markdown",
   "metadata": {},
   "source": [
    "#### Step 2: Set the variables for the Alpaca API and secret keys. Using the Alpaca SDK, create the Alpaca `tradeapi.REST` object. In this object, include the parameters for the Alpaca API key, the secret key, and the version number."
   ]
  },
  {
   "cell_type": "code",
   "execution_count": 14,
   "metadata": {},
   "outputs": [],
   "source": [
    "# Set the variables for the Alpaca API and secret keys\n",
    "alpaca_api_key = os.getenv(\"ALPACA_API_KEY\")\n",
    "alpaca_secret_key = os.getenv(\"ALPACA_SECRET_KEY\")\n",
    "\n",
    "# Create the Alpaca tradeapi.REST object\n",
    "alpaca = tradeapi.REST(\n",
    "    alpaca_api_key,\n",
    "    alpaca_secret_key,\n",
    "    api_version=\"v2\")"
   ]
  },
  {
   "cell_type": "markdown",
   "metadata": {},
   "source": [
    "#### Step 3: Set the following parameters for the Alpaca API call:\n",
    "\n",
    "- `tickers`: Use the tickers for the member’s stock and bond holdings.\n",
    "\n",
    "- `timeframe`: Use a time frame of one day.\n",
    "\n",
    "- `start_date` and `end_date`: Use the same date for these parameters, and format them with the date of the previous weekday (or `2020-08-07`). This is because you want the one closing price for the most-recent trading day.\n"
   ]
  },
  {
   "cell_type": "code",
   "execution_count": 15,
   "metadata": {},
   "outputs": [],
   "source": [
    "# Set the tickers for both the bond and stock portion of the portfolio\n",
    "tickers = ['SPY', 'AGG']\n",
    "\n",
    "# Set timeframe to 1D \n",
    "timeframe = \"1D\"\n",
    "\n",
    "# Format current date as ISO format\n",
    "# Set both the start and end date at the date of your prior weekday \n",
    "# This will give you the closing price of the previous trading day\n",
    "# Alternatively you can use a start and end date of 2020-08-07\n",
    "start_date = pd.Timestamp(\"2021-10-21\", tz=\"America/New_York\").isoformat()\n",
    "end_date = pd.Timestamp(\"2021-10-21\", tz=\"America/New_York\").isoformat()"
   ]
  },
  {
   "cell_type": "markdown",
   "metadata": {},
   "source": [
    "#### Step 4: Get the current closing prices for `SPY` and `AGG` by using the Alpaca `get_barset` function. Format the response as a Pandas DataFrame by including the `df` property at the end of the `get_barset` function."
   ]
  },
  {
   "cell_type": "code",
   "execution_count": 16,
   "metadata": {},
   "outputs": [
    {
     "data": {
      "text/html": [
       "<div>\n",
       "<style scoped>\n",
       "    .dataframe tbody tr th:only-of-type {\n",
       "        vertical-align: middle;\n",
       "    }\n",
       "\n",
       "    .dataframe tbody tr th {\n",
       "        vertical-align: top;\n",
       "    }\n",
       "\n",
       "    .dataframe thead tr th {\n",
       "        text-align: left;\n",
       "    }\n",
       "\n",
       "    .dataframe thead tr:last-of-type th {\n",
       "        text-align: right;\n",
       "    }\n",
       "</style>\n",
       "<table border=\"1\" class=\"dataframe\">\n",
       "  <thead>\n",
       "    <tr>\n",
       "      <th></th>\n",
       "      <th colspan=\"5\" halign=\"left\">AGG</th>\n",
       "      <th colspan=\"5\" halign=\"left\">SPY</th>\n",
       "    </tr>\n",
       "    <tr>\n",
       "      <th></th>\n",
       "      <th>open</th>\n",
       "      <th>high</th>\n",
       "      <th>low</th>\n",
       "      <th>close</th>\n",
       "      <th>volume</th>\n",
       "      <th>open</th>\n",
       "      <th>high</th>\n",
       "      <th>low</th>\n",
       "      <th>close</th>\n",
       "      <th>volume</th>\n",
       "    </tr>\n",
       "    <tr>\n",
       "      <th>time</th>\n",
       "      <th></th>\n",
       "      <th></th>\n",
       "      <th></th>\n",
       "      <th></th>\n",
       "      <th></th>\n",
       "      <th></th>\n",
       "      <th></th>\n",
       "      <th></th>\n",
       "      <th></th>\n",
       "      <th></th>\n",
       "    </tr>\n",
       "  </thead>\n",
       "  <tbody>\n",
       "    <tr>\n",
       "      <th>2021-10-21 00:00:00-04:00</th>\n",
       "      <td>114.01</td>\n",
       "      <td>114.04</td>\n",
       "      <td>113.8423</td>\n",
       "      <td>113.85</td>\n",
       "      <td>4741154</td>\n",
       "      <td>451.76</td>\n",
       "      <td>453.829</td>\n",
       "      <td>451.31</td>\n",
       "      <td>453.61</td>\n",
       "      <td>33945007</td>\n",
       "    </tr>\n",
       "  </tbody>\n",
       "</table>\n",
       "</div>"
      ],
      "text/plain": [
       "                              AGG                                        SPY  \\\n",
       "                             open    high       low   close   volume    open   \n",
       "time                                                                           \n",
       "2021-10-21 00:00:00-04:00  114.01  114.04  113.8423  113.85  4741154  451.76   \n",
       "\n",
       "                                                              \n",
       "                              high     low   close    volume  \n",
       "time                                                          \n",
       "2021-10-21 00:00:00-04:00  453.829  451.31  453.61  33945007  "
      ]
     },
     "execution_count": 16,
     "metadata": {},
     "output_type": "execute_result"
    }
   ],
   "source": [
    "# Use the Alpaca get_barset function to get current closing prices the portfolio\n",
    "# Be sure to set the `df` property after the function to format the response object as a DataFrame\n",
    "df_portfolio = alpaca.get_barset(\n",
    "    tickers,\n",
    "    timeframe,\n",
    "    start = start_date,\n",
    "    end = end_date\n",
    ").df\n",
    "\n",
    "# Review the first 5 rows of the Alpaca DataFrame\n",
    "df_portfolio.head()"
   ]
  },
  {
   "cell_type": "markdown",
   "metadata": {},
   "source": [
    "#### Step 5: Navigating the Alpaca response DataFrame, select the `SPY` and `AGG` closing prices, and store them as variables."
   ]
  },
  {
   "cell_type": "code",
   "execution_count": 17,
   "metadata": {},
   "outputs": [
    {
     "name": "stdout",
     "output_type": "stream",
     "text": [
      "The AGG closing price is: $113.85\n"
     ]
    }
   ],
   "source": [
    "# Access the closing price for AGG from the Alpaca DataFrame\n",
    "# Converting the value to a floating point number\n",
    "agg_close_price = float(df_portfolio['AGG']['close'])\n",
    "# Print the AGG closing price\n",
    "print(f'The AGG closing price is: ${agg_close_price:.2f}')"
   ]
  },
  {
   "cell_type": "code",
   "execution_count": 18,
   "metadata": {},
   "outputs": [
    {
     "name": "stdout",
     "output_type": "stream",
     "text": [
      "The SPY closing price is: $453.61\n"
     ]
    }
   ],
   "source": [
    "# Access the closing price for SPY from the Alpaca DataFrame\n",
    "# Converting the value to a floating point number\n",
    "spy_close_price = float(df_portfolio['SPY']['close']) \n",
    "\n",
    "# Print the SPY closing price\n",
    "print(f'The SPY closing price is: ${spy_close_price:.2f}')"
   ]
  },
  {
   "cell_type": "markdown",
   "metadata": {},
   "source": [
    "#### Step 6: Calculate the value, in US dollars, of the current amount of shares in each of the stock and bond portions of the portfolio, and print the results."
   ]
  },
  {
   "cell_type": "code",
   "execution_count": 19,
   "metadata": {},
   "outputs": [
    {
     "name": "stdout",
     "output_type": "stream",
     "text": [
      "The current value of the AGG Bond portfolio is: $22770.00\n"
     ]
    }
   ],
   "source": [
    "# Calculate the current value of t\"he bond portion of the portfolio\n",
    "agg_value = agg_close_price * agg_shares\n",
    "\n",
    "# Print the current value of the bond portfolio\n",
    "print(f'The current value of the AGG Bond portfolio is: ${agg_value:.2f}')"
   ]
  },
  {
   "cell_type": "code",
   "execution_count": 20,
   "metadata": {},
   "outputs": [
    {
     "name": "stdout",
     "output_type": "stream",
     "text": [
      "The current value of the stock portion of the portfolio is: $49897.10\n"
     ]
    }
   ],
   "source": [
    "# Calculate the current value of the stock portion of the portfolio\n",
    "spy_value = spy_shares * spy_close_price\n",
    " \n",
    "# Print the current value of the stock portfolio\n",
    "print(f'The current value of the stock portion of the portfolio is: ${spy_value:.2f}')"
   ]
  },
  {
   "cell_type": "code",
   "execution_count": 21,
   "metadata": {},
   "outputs": [
    {
     "name": "stdout",
     "output_type": "stream",
     "text": [
      "The current balance of the stock and bond portion of the portfolio is: $72667.10\n"
     ]
    }
   ],
   "source": [
    "# Calculate the total value of the stock and bond portion of the portfolio\n",
    "total_stocks_bonds = agg_value + spy_value \n",
    "\n",
    "# Print the current balance of the stock and bond portion of the portfolio\n",
    "print(f'The current balance of the stock and bond portion of the portfolio is: ${total_stocks_bonds:.2f}')"
   ]
  },
  {
   "cell_type": "code",
   "execution_count": 22,
   "metadata": {},
   "outputs": [
    {
     "name": "stdout",
     "output_type": "stream",
     "text": [
      "The total value of the entire savings portfolio is: $164821.51\n"
     ]
    }
   ],
   "source": [
    "# Calculate the total value of the member's entire savings portfolio\n",
    "# Add the value of the cryptocurrency walled to the value of the total stocks and bonds\n",
    "total_portfolio = total_stocks_bonds + total_crypto_wallet \n",
    "\n",
    "# Print current cryptocurrency wallet balance\n",
    "print(f'The total value of the entire savings portfolio is: ${total_portfolio:.2f}')"
   ]
  },
  {
   "cell_type": "markdown",
   "metadata": {},
   "source": [
    "### Evaluate the Emergency Fund\n",
    "\n",
    "In this section, you’ll use the valuations for the cryptocurrency wallet and for the stock and bond portions of the portfolio to determine if the credit union member has enough savings to build an emergency fund into their financial plan. To do this, complete the following steps:\n",
    "\n",
    "1. Create a Python list named `savings_data` that has two elements. The first element contains the total value of the cryptocurrency wallet. The second element contains the total value of the stock and bond portions of the portfolio.\n",
    "\n",
    "2. Use the `savings_data` list to create a Pandas DataFrame named `savings_df`, and then display this DataFrame. The function to create the DataFrame should take the following three parameters:\n",
    "\n",
    "    - `savings_data`: Use the list that you just created.\n",
    "\n",
    "    - `columns`: Set this parameter equal to a Python list with a single value called `amount`.\n",
    "\n",
    "    - `index`: Set this parameter equal to a Python list with the values of `crypto` and `stock/bond`.\n",
    "\n",
    "3. Use the `savings_df` DataFrame to plot a pie chart that visualizes the composition of the member’s portfolio. The y-axis of the pie chart uses `amount`. Be sure to add a title.\n",
    "\n",
    "4. Using Python, determine if the current portfolio has enough to create an emergency fund as part of the member’s financial plan. Ideally, an emergency fund should equal to three times the member’s monthly income. To do this, implement the following steps:\n",
    "\n",
    "    1. Create a variable named `emergency_fund_value`, and set it equal to three times the value of the member’s `monthly_income` of $12000. (You set this earlier in Part 1).\n",
    "\n",
    "    2. Create a series of three if statements to determine if the member’s total portfolio is large enough to fund the emergency portfolio:\n",
    "\n",
    "        1. If the total portfolio value is greater than the emergency fund value, display a message congratulating the member for having enough money in this fund.\n",
    "\n",
    "        2. Else if the total portfolio value is equal to the emergency fund value, display a message congratulating the member on reaching this important financial goal.\n",
    "\n",
    "        3. Else the total portfolio is less than the emergency fund value, so display a message showing how many dollars away the member is from reaching the goal. (Subtract the total portfolio value from the emergency fund value.)\n"
   ]
  },
  {
   "cell_type": "markdown",
   "metadata": {},
   "source": [
    "#### Step 1: Create a Python list named `savings_data` that has two elements. The first element contains the total value of the cryptocurrency wallet. The second element contains the total value of the stock and bond portions of the portfolio."
   ]
  },
  {
   "cell_type": "code",
   "execution_count": 23,
   "metadata": {},
   "outputs": [
    {
     "data": {
      "text/plain": [
       "[92154.405, 72667.1]"
      ]
     },
     "metadata": {},
     "output_type": "display_data"
    }
   ],
   "source": [
    "# Consolidate financial assets data into a Python list\n",
    "savings_data = [total_crypto_wallet, total_stocks_bonds]\n",
    "\n",
    "# Review the Python list savings_data\n",
    "display(savings_data)"
   ]
  },
  {
   "cell_type": "markdown",
   "metadata": {},
   "source": [
    "#### Step 2: Use the `savings_data` list to create a Pandas DataFrame named `savings_df`, and then display this DataFrame. The function to create the DataFrame should take the following three parameters:\n",
    "\n",
    "- `savings_data`: Use the list that you just created.\n",
    "\n",
    "- `columns`: Set this parameter equal to a Python list with a single value called `amount`.\n",
    "\n",
    "- `index`: Set this parameter equal to a Python list with the values of `crypto` and `stock/bond`.\n"
   ]
  },
  {
   "cell_type": "code",
   "execution_count": 24,
   "metadata": {},
   "outputs": [
    {
     "data": {
      "text/html": [
       "<div>\n",
       "<style scoped>\n",
       "    .dataframe tbody tr th:only-of-type {\n",
       "        vertical-align: middle;\n",
       "    }\n",
       "\n",
       "    .dataframe tbody tr th {\n",
       "        vertical-align: top;\n",
       "    }\n",
       "\n",
       "    .dataframe thead th {\n",
       "        text-align: right;\n",
       "    }\n",
       "</style>\n",
       "<table border=\"1\" class=\"dataframe\">\n",
       "  <thead>\n",
       "    <tr style=\"text-align: right;\">\n",
       "      <th></th>\n",
       "      <th>Amount</th>\n",
       "    </tr>\n",
       "  </thead>\n",
       "  <tbody>\n",
       "    <tr>\n",
       "      <th>Crypto Value</th>\n",
       "      <td>92154.405</td>\n",
       "    </tr>\n",
       "    <tr>\n",
       "      <th>Stocks/Bonds Value</th>\n",
       "      <td>72667.100</td>\n",
       "    </tr>\n",
       "  </tbody>\n",
       "</table>\n",
       "</div>"
      ],
      "text/plain": [
       "                       Amount\n",
       "Crypto Value        92154.405\n",
       "Stocks/Bonds Value  72667.100"
      ]
     },
     "execution_count": 24,
     "metadata": {},
     "output_type": "execute_result"
    }
   ],
   "source": [
    "# Create a Pandas DataFrame called savings_df \n",
    "\n",
    "savings_df = pd.DataFrame(savings_data,\n",
    "    columns = ['Amount'],\n",
    "    index = ['Crypto Value', 'Stocks/Bonds Value']\n",
    ")\n",
    "# Display the savings_df DataFrame\n",
    "savings_df"
   ]
  },
  {
   "cell_type": "markdown",
   "metadata": {},
   "source": [
    "#### Step 3: Use the `savings_df` DataFrame to plot a pie chart that visualizes the composition of the member’s portfolio. The y-axis of the pie chart uses `amount`. Be sure to add a title."
   ]
  },
  {
   "cell_type": "code",
   "execution_count": 25,
   "metadata": {},
   "outputs": [
    {
     "data": {
      "text/plain": [
       "array([<AxesSubplot:ylabel='Amount'>], dtype=object)"
      ]
     },
     "execution_count": 25,
     "metadata": {},
     "output_type": "execute_result"
    },
    {
     "data": {
      "image/png": "[encoded data removed]",
      "text/plain": [
       "<Figure size 720x360 with 1 Axes>"
      ]
     },
     "metadata": {},
     "output_type": "display_data"
    }
   ],
   "source": [
    "# Plot the total value of the member's portfolio (crypto and stock/bond) in a pie chart\n",
    "\n",
    "savings_df.plot(\n",
    "    kind=\"pie\",\n",
    "    title=\"Total Value of My Portfolio\",\n",
    "    subplots=True,\n",
    "    figsize=(10,5)\n",
    ")"
   ]
  },
  {
   "cell_type": "markdown",
   "metadata": {},
   "source": [
    "#### Step 4: Using Python, determine if the current portfolio has enough to create an emergency fund as part of the member’s financial plan. Ideally, an emergency fund should equal to three times the member’s monthly income. To do this, implement the following steps:\n",
    "\n",
    "Step 1. Create a variable named `emergency_fund_value`, and set it equal to three times the value of the member’s `monthly_income` of 12000. (You set this earlier in Part 1).\n",
    "\n",
    "Step 2. Create a series of three if statements to determine if the member’s total portfolio is large enough to fund the emergency portfolio:\n",
    "\n",
    "* If the total portfolio value is greater than the emergency fund value, display a message congratulating the member for having enough money in this fund.\n",
    "\n",
    "* Else if the total portfolio value is equal to the emergency fund value, display a message congratulating the member on reaching this important financial goal.\n",
    "\n",
    "* Else the total portfolio is less than the emergency fund value, so display a message showing how many dollars away the member is from reaching the goal. (Subtract the total portfolio value from the emergency fund value.)\n"
   ]
  },
  {
   "cell_type": "markdown",
   "metadata": {},
   "source": [
    "##### Step 4-1: Create a variable named `emergency_fund_value`, and set it equal to three times the value of the member’s `monthly_income` of 12000. (You set this earlier in Part 1)."
   ]
  },
  {
   "cell_type": "code",
   "execution_count": 26,
   "metadata": {},
   "outputs": [
    {
     "name": "stdout",
     "output_type": "stream",
     "text": [
      "The emergency fund value is: $36000.00\n"
     ]
    }
   ],
   "source": [
    "# Create a variable named emergency_fund_value\n",
    "emergency_fund_value = monthly_income * 3\n",
    "print(f'The emergency fund value is: ${emergency_fund_value:.2f}')"
   ]
  },
  {
   "cell_type": "markdown",
   "metadata": {},
   "source": [
    "##### Step 4-2: Create a series of three if statements to determine if the member’s total portfolio is large enough to fund the emergency portfolio:\n",
    "\n",
    "* If the total portfolio value is greater than the emergency fund value, display a message congratulating the member for having enough money in this fund.\n",
    "\n",
    "* Else if the total portfolio value is equal to the emergency fund value, display a message congratulating the member on reaching this important financial goal.\n",
    "\n",
    "* Else the total portfolio is less than the emergency fund value, so display a message showing how many dollars away the member is from reaching the goal. (Subtract the total portfolio value from the emergency fund value.)"
   ]
  },
  {
   "cell_type": "code",
   "execution_count": 27,
   "metadata": {},
   "outputs": [
    {
     "name": "stdout",
     "output_type": "stream",
     "text": [
      "Congratulations for having enough money in this fund!\n"
     ]
    }
   ],
   "source": [
    "# Evaluate the possibility of creating an emergency fund with 3 conditions:\n",
    "if total_portfolio > emergency_fund_value:\n",
    "    print(f'Congratulations for having enough money in this fund!')\n",
    "elif total_portfolio==emergency_fund_value:\n",
    "    print(f'Congratulations on reaching this important financial goal!')\n",
    "else:\n",
    "    print(f'You are ${emergency_fund_value-total_portfolio} from reaching the goal.')"
   ]
  },
  {
   "cell_type": "markdown",
   "metadata": {},
   "source": [
    "## Part 2: Create a Financial Planner for Retirement"
   ]
  },
  {
   "cell_type": "markdown",
   "metadata": {},
   "source": [
    "### Create the Monte Carlo Simulation\n",
    "\n",
    "In this section, you’ll use the MCForecastTools library to create a Monte Carlo simulation for the member’s savings portfolio. To do this, complete the following steps:\n",
    "\n",
    "1. Make an API call via the Alpaca SDK to get 3 years of historical closing prices for a traditional 60/40 portfolio split: 60% stocks (SPY) and 40% bonds (AGG).\n",
    "\n",
    "2. Run a Monte Carlo simulation of 500 samples and 30 years for the 60/40 portfolio, and then plot the results.The following image shows the overlay line plot resulting from a simulation with these characteristics. However, because a random number generator is used to run each live Monte Carlo simulation, your image will differ slightly from this exact image:\n",
    "\n",
    "![A screenshot depicts the resulting plot.](Images/5-4-monte-carlo-line-plot.png)\n",
    "\n",
    "3. Plot the probability distribution of the Monte Carlo simulation. Plot the probability distribution of the Monte Carlo simulation. The following image shows the histogram plot resulting from a simulation with these characteristics. However, because a random number generator is used to run each live Monte Carlo simulation, your image will differ slightly from this exact image:\n",
    "\n",
    "![A screenshot depicts the histogram plot.](Images/5-4-monte-carlo-histogram.png)\n",
    "\n",
    "4. Generate the summary statistics for the Monte Carlo simulation.\n",
    "\n"
   ]
  },
  {
   "cell_type": "markdown",
   "metadata": {},
   "source": [
    "#### Step 1: Make an API call via the Alpaca SDK to get 3 years of historical closing prices for a traditional 60/40 portfolio split: 60% stocks (SPY) and 40% bonds (AGG)."
   ]
  },
  {
   "cell_type": "code",
   "execution_count": 28,
   "metadata": {},
   "outputs": [],
   "source": [
    "# Set start and end dates of 3 years back from your current date\n",
    "# Alternatively, you can use an end date of 2020-08-07 and work 3 years back from that date \n",
    "start_date = \"2018-10-21\" \n",
    "end_date = \"2021-10-21\"\n",
    "\n",
    "# Set number of rows to 1000 to retrieve the maximum amount of rows\n",
    "limit_rows=1000"
   ]
  },
  {
   "cell_type": "code",
   "execution_count": 29,
   "metadata": {},
   "outputs": [
    {
     "data": {
      "text/html": [
       "<div>\n",
       "<style scoped>\n",
       "    .dataframe tbody tr th:only-of-type {\n",
       "        vertical-align: middle;\n",
       "    }\n",
       "\n",
       "    .dataframe tbody tr th {\n",
       "        vertical-align: top;\n",
       "    }\n",
       "\n",
       "    .dataframe thead tr th {\n",
       "        text-align: left;\n",
       "    }\n",
       "\n",
       "    .dataframe thead tr:last-of-type th {\n",
       "        text-align: right;\n",
       "    }\n",
       "</style>\n",
       "<table border=\"1\" class=\"dataframe\">\n",
       "  <thead>\n",
       "    <tr>\n",
       "      <th></th>\n",
       "      <th colspan=\"5\" halign=\"left\">AGG</th>\n",
       "      <th colspan=\"5\" halign=\"left\">SPY</th>\n",
       "    </tr>\n",
       "    <tr>\n",
       "      <th></th>\n",
       "      <th>open</th>\n",
       "      <th>high</th>\n",
       "      <th>low</th>\n",
       "      <th>close</th>\n",
       "      <th>volume</th>\n",
       "      <th>open</th>\n",
       "      <th>high</th>\n",
       "      <th>low</th>\n",
       "      <th>close</th>\n",
       "      <th>volume</th>\n",
       "    </tr>\n",
       "    <tr>\n",
       "      <th>time</th>\n",
       "      <th></th>\n",
       "      <th></th>\n",
       "      <th></th>\n",
       "      <th></th>\n",
       "      <th></th>\n",
       "      <th></th>\n",
       "      <th></th>\n",
       "      <th></th>\n",
       "      <th></th>\n",
       "      <th></th>\n",
       "    </tr>\n",
       "  </thead>\n",
       "  <tbody>\n",
       "    <tr>\n",
       "      <th>2021-06-08 00:00:00-04:00</th>\n",
       "      <td>114.84</td>\n",
       "      <td>114.87</td>\n",
       "      <td>114.7800</td>\n",
       "      <td>114.82</td>\n",
       "      <td>3951702</td>\n",
       "      <td>423.11</td>\n",
       "      <td>423.21</td>\n",
       "      <td>420.32</td>\n",
       "      <td>422.27</td>\n",
       "      <td>40131441</td>\n",
       "    </tr>\n",
       "    <tr>\n",
       "      <th>2021-06-09 00:00:00-04:00</th>\n",
       "      <td>115.43</td>\n",
       "      <td>115.43</td>\n",
       "      <td>114.9700</td>\n",
       "      <td>115.05</td>\n",
       "      <td>3418086</td>\n",
       "      <td>423.18</td>\n",
       "      <td>423.26</td>\n",
       "      <td>421.41</td>\n",
       "      <td>421.62</td>\n",
       "      <td>38368598</td>\n",
       "    </tr>\n",
       "    <tr>\n",
       "      <th>2021-06-10 00:00:00-04:00</th>\n",
       "      <td>115.30</td>\n",
       "      <td>115.31</td>\n",
       "      <td>114.8605</td>\n",
       "      <td>115.30</td>\n",
       "      <td>3665934</td>\n",
       "      <td>422.96</td>\n",
       "      <td>424.63</td>\n",
       "      <td>421.55</td>\n",
       "      <td>423.58</td>\n",
       "      <td>43577329</td>\n",
       "    </tr>\n",
       "    <tr>\n",
       "      <th>2021-06-11 00:00:00-04:00</th>\n",
       "      <td>115.31</td>\n",
       "      <td>115.32</td>\n",
       "      <td>115.1600</td>\n",
       "      <td>115.24</td>\n",
       "      <td>3476373</td>\n",
       "      <td>424.19</td>\n",
       "      <td>424.42</td>\n",
       "      <td>422.82</td>\n",
       "      <td>424.31</td>\n",
       "      <td>37018077</td>\n",
       "    </tr>\n",
       "    <tr>\n",
       "      <th>2021-06-14 00:00:00-04:00</th>\n",
       "      <td>115.18</td>\n",
       "      <td>115.18</td>\n",
       "      <td>114.9350</td>\n",
       "      <td>114.97</td>\n",
       "      <td>2999623</td>\n",
       "      <td>424.43</td>\n",
       "      <td>425.29</td>\n",
       "      <td>423.10</td>\n",
       "      <td>425.29</td>\n",
       "      <td>33128340</td>\n",
       "    </tr>\n",
       "  </tbody>\n",
       "</table>\n",
       "</div>"
      ],
      "text/plain": [
       "                              AGG                                        SPY  \\\n",
       "                             open    high       low   close   volume    open   \n",
       "time                                                                           \n",
       "2021-06-08 00:00:00-04:00  114.84  114.87  114.7800  114.82  3951702  423.11   \n",
       "2021-06-09 00:00:00-04:00  115.43  115.43  114.9700  115.05  3418086  423.18   \n",
       "2021-06-10 00:00:00-04:00  115.30  115.31  114.8605  115.30  3665934  422.96   \n",
       "2021-06-11 00:00:00-04:00  115.31  115.32  115.1600  115.24  3476373  424.19   \n",
       "2021-06-14 00:00:00-04:00  115.18  115.18  114.9350  114.97  2999623  424.43   \n",
       "\n",
       "                                                             \n",
       "                             high     low   close    volume  \n",
       "time                                                         \n",
       "2021-06-08 00:00:00-04:00  423.21  420.32  422.27  40131441  \n",
       "2021-06-09 00:00:00-04:00  423.26  421.41  421.62  38368598  \n",
       "2021-06-10 00:00:00-04:00  424.63  421.55  423.58  43577329  \n",
       "2021-06-11 00:00:00-04:00  424.42  422.82  424.31  37018077  \n",
       "2021-06-14 00:00:00-04:00  425.29  423.10  425.29  33128340  "
      ]
     },
     "metadata": {},
     "output_type": "display_data"
    },
    {
     "data": {
      "text/html": [
       "<div>\n",
       "<style scoped>\n",
       "    .dataframe tbody tr th:only-of-type {\n",
       "        vertical-align: middle;\n",
       "    }\n",
       "\n",
       "    .dataframe tbody tr th {\n",
       "        vertical-align: top;\n",
       "    }\n",
       "\n",
       "    .dataframe thead tr th {\n",
       "        text-align: left;\n",
       "    }\n",
       "\n",
       "    .dataframe thead tr:last-of-type th {\n",
       "        text-align: right;\n",
       "    }\n",
       "</style>\n",
       "<table border=\"1\" class=\"dataframe\">\n",
       "  <thead>\n",
       "    <tr>\n",
       "      <th></th>\n",
       "      <th colspan=\"5\" halign=\"left\">AGG</th>\n",
       "      <th colspan=\"5\" halign=\"left\">SPY</th>\n",
       "    </tr>\n",
       "    <tr>\n",
       "      <th></th>\n",
       "      <th>open</th>\n",
       "      <th>high</th>\n",
       "      <th>low</th>\n",
       "      <th>close</th>\n",
       "      <th>volume</th>\n",
       "      <th>open</th>\n",
       "      <th>high</th>\n",
       "      <th>low</th>\n",
       "      <th>close</th>\n",
       "      <th>volume</th>\n",
       "    </tr>\n",
       "    <tr>\n",
       "      <th>time</th>\n",
       "      <th></th>\n",
       "      <th></th>\n",
       "      <th></th>\n",
       "      <th></th>\n",
       "      <th></th>\n",
       "      <th></th>\n",
       "      <th></th>\n",
       "      <th></th>\n",
       "      <th></th>\n",
       "      <th></th>\n",
       "    </tr>\n",
       "  </thead>\n",
       "  <tbody>\n",
       "    <tr>\n",
       "      <th>2021-10-21 00:00:00-04:00</th>\n",
       "      <td>114.01</td>\n",
       "      <td>114.0400</td>\n",
       "      <td>113.8423</td>\n",
       "      <td>113.85</td>\n",
       "      <td>4741154</td>\n",
       "      <td>451.76</td>\n",
       "      <td>453.829</td>\n",
       "      <td>451.31</td>\n",
       "      <td>453.61</td>\n",
       "      <td>33945007</td>\n",
       "    </tr>\n",
       "    <tr>\n",
       "      <th>2021-10-22 00:00:00-04:00</th>\n",
       "      <td>113.97</td>\n",
       "      <td>114.1399</td>\n",
       "      <td>113.8950</td>\n",
       "      <td>114.07</td>\n",
       "      <td>3309637</td>\n",
       "      <td>453.13</td>\n",
       "      <td>454.670</td>\n",
       "      <td>451.05</td>\n",
       "      <td>453.13</td>\n",
       "      <td>50771701</td>\n",
       "    </tr>\n",
       "    <tr>\n",
       "      <th>2021-10-25 00:00:00-04:00</th>\n",
       "      <td>114.06</td>\n",
       "      <td>114.2700</td>\n",
       "      <td>114.0600</td>\n",
       "      <td>114.17</td>\n",
       "      <td>7088133</td>\n",
       "      <td>454.28</td>\n",
       "      <td>455.900</td>\n",
       "      <td>452.39</td>\n",
       "      <td>455.48</td>\n",
       "      <td>37918548</td>\n",
       "    </tr>\n",
       "    <tr>\n",
       "      <th>2021-10-26 00:00:00-04:00</th>\n",
       "      <td>114.25</td>\n",
       "      <td>114.3800</td>\n",
       "      <td>114.1100</td>\n",
       "      <td>114.37</td>\n",
       "      <td>5284755</td>\n",
       "      <td>457.20</td>\n",
       "      <td>458.490</td>\n",
       "      <td>455.56</td>\n",
       "      <td>455.97</td>\n",
       "      <td>49865704</td>\n",
       "    </tr>\n",
       "    <tr>\n",
       "      <th>2021-10-27 00:00:00-04:00</th>\n",
       "      <td>114.66</td>\n",
       "      <td>114.9150</td>\n",
       "      <td>114.4250</td>\n",
       "      <td>114.77</td>\n",
       "      <td>6817074</td>\n",
       "      <td>456.45</td>\n",
       "      <td>457.160</td>\n",
       "      <td>453.86</td>\n",
       "      <td>453.92</td>\n",
       "      <td>48219255</td>\n",
       "    </tr>\n",
       "  </tbody>\n",
       "</table>\n",
       "</div>"
      ],
      "text/plain": [
       "                              AGG                                       \\\n",
       "                             open      high       low   close   volume   \n",
       "time                                                                     \n",
       "2021-10-21 00:00:00-04:00  114.01  114.0400  113.8423  113.85  4741154   \n",
       "2021-10-22 00:00:00-04:00  113.97  114.1399  113.8950  114.07  3309637   \n",
       "2021-10-25 00:00:00-04:00  114.06  114.2700  114.0600  114.17  7088133   \n",
       "2021-10-26 00:00:00-04:00  114.25  114.3800  114.1100  114.37  5284755   \n",
       "2021-10-27 00:00:00-04:00  114.66  114.9150  114.4250  114.77  6817074   \n",
       "\n",
       "                              SPY                                     \n",
       "                             open     high     low   close    volume  \n",
       "time                                                                  \n",
       "2021-10-21 00:00:00-04:00  451.76  453.829  451.31  453.61  33945007  \n",
       "2021-10-22 00:00:00-04:00  453.13  454.670  451.05  453.13  50771701  \n",
       "2021-10-25 00:00:00-04:00  454.28  455.900  452.39  455.48  37918548  \n",
       "2021-10-26 00:00:00-04:00  457.20  458.490  455.56  455.97  49865704  \n",
       "2021-10-27 00:00:00-04:00  456.45  457.160  453.86  453.92  48219255  "
      ]
     },
     "metadata": {},
     "output_type": "display_data"
    }
   ],
   "source": [
    "# Use the Alpaca get_barset function to make the API call to get the 3 years worth of pricing data\n",
    "# The tickers and timeframe parameters should have been set in Part 1 of this activity \n",
    "# The start and end dates should be updated with the information set above\n",
    "# Remember to add the df property to the end of the call so the response is returned as a DataFrame\n",
    "three_yr_portfolio = alpaca.get_barset(\n",
    "    tickers,\n",
    "    timeframe,\n",
    "    start = start_date, \n",
    "    end = end_date\n",
    ").df\n",
    "\n",
    "# Display both the first and last five rows of the DataFrame\n",
    "display(three_yr_portfolio.head())\n",
    "display(three_yr_portfolio.tail())"
   ]
  },
  {
   "cell_type": "markdown",
   "metadata": {},
   "source": [
    "#### Step 2: Run a Monte Carlo simulation of 500 samples and 30 years for the 60/40 portfolio, and then plot the results."
   ]
  },
  {
   "cell_type": "code",
   "execution_count": 30,
   "metadata": {},
   "outputs": [],
   "source": [
    "# Configure the Monte Carlo simulation to forecast 30 years cumulative returns\n",
    "# The weights should be split 40% to AGG and 60% to SPY.\n",
    "# Run 500 samples.\n",
    "thirty_year_simulation = MCSimulation(\n",
    "    portfolio_data = three_yr_portfolio,\n",
    "    weights = [0.40, 0.60],\n",
    "    num_simulation = 500,\n",
    "    num_trading_days = 252 * 30,\n",
    ")\n",
    "# Review the simulation input data\n",
    "thirty_year_simulation.portfolio_data.head()\n",
    "# Set number of simulations\n",
    "num_sims = 500"
   ]
  },
  {
   "cell_type": "code",
   "execution_count": 31,
   "metadata": {},
   "outputs": [
    {
     "name": "stdout",
     "output_type": "stream",
     "text": [
      "Running Monte Carlo simulation number 0.\n",
      "Running Monte Carlo simulation number 10.\n",
      "Running Monte Carlo simulation number 20.\n",
      "Running Monte Carlo simulation number 30.\n",
      "Running Monte Carlo simulation number 40.\n",
      "Running Monte Carlo simulation number 50.\n",
      "Running Monte Carlo simulation number 60.\n",
      "Running Monte Carlo simulation number 70.\n",
      "Running Monte Carlo simulation number 80.\n",
      "Running Monte Carlo simulation number 90.\n",
      "Running Monte Carlo simulation number 100.\n",
      "Running Monte Carlo simulation number 110.\n",
      "Running Monte Carlo simulation number 120.\n",
      "Running Monte Carlo simulation number 130.\n",
      "Running Monte Carlo simulation number 140.\n",
      "Running Monte Carlo simulation number 150.\n",
      "Running Monte Carlo simulation number 160.\n",
      "Running Monte Carlo simulation number 170.\n",
      "Running Monte Carlo simulation number 180.\n",
      "Running Monte Carlo simulation number 190.\n",
      "Running Monte Carlo simulation number 200.\n",
      "Running Monte Carlo simulation number 210.\n",
      "Running Monte Carlo simulation number 220.\n",
      "Running Monte Carlo simulation number 230.\n",
      "Running Monte Carlo simulation number 240.\n",
      "Running Monte Carlo simulation number 250.\n",
      "Running Monte Carlo simulation number 260.\n",
      "Running Monte Carlo simulation number 270.\n",
      "Running Monte Carlo simulation number 280.\n",
      "Running Monte Carlo simulation number 290.\n",
      "Running Monte Carlo simulation number 300.\n",
      "Running Monte Carlo simulation number 310.\n",
      "Running Monte Carlo simulation number 320.\n",
      "Running Monte Carlo simulation number 330.\n",
      "Running Monte Carlo simulation number 340.\n",
      "Running Monte Carlo simulation number 350.\n",
      "Running Monte Carlo simulation number 360.\n",
      "Running Monte Carlo simulation number 370.\n",
      "Running Monte Carlo simulation number 380.\n",
      "Running Monte Carlo simulation number 390.\n",
      "Running Monte Carlo simulation number 400.\n",
      "Running Monte Carlo simulation number 410.\n",
      "Running Monte Carlo simulation number 420.\n",
      "Running Monte Carlo simulation number 430.\n",
      "Running Monte Carlo simulation number 440.\n",
      "Running Monte Carlo simulation number 450.\n",
      "Running Monte Carlo simulation number 460.\n",
      "Running Monte Carlo simulation number 470.\n",
      "Running Monte Carlo simulation number 480.\n",
      "Running Monte Carlo simulation number 490.\n"
     ]
    },
    {
     "data": {
      "text/html": [
       "<div>\n",
       "<style scoped>\n",
       "    .dataframe tbody tr th:only-of-type {\n",
       "        vertical-align: middle;\n",
       "    }\n",
       "\n",
       "    .dataframe tbody tr th {\n",
       "        vertical-align: top;\n",
       "    }\n",
       "\n",
       "    .dataframe thead th {\n",
       "        text-align: right;\n",
       "    }\n",
       "</style>\n",
       "<table border=\"1\" class=\"dataframe\">\n",
       "  <thead>\n",
       "    <tr style=\"text-align: right;\">\n",
       "      <th></th>\n",
       "      <th>0</th>\n",
       "      <th>1</th>\n",
       "      <th>2</th>\n",
       "      <th>3</th>\n",
       "      <th>4</th>\n",
       "      <th>5</th>\n",
       "      <th>6</th>\n",
       "      <th>7</th>\n",
       "      <th>8</th>\n",
       "      <th>9</th>\n",
       "      <th>...</th>\n",
       "      <th>490</th>\n",
       "      <th>491</th>\n",
       "      <th>492</th>\n",
       "      <th>493</th>\n",
       "      <th>494</th>\n",
       "      <th>495</th>\n",
       "      <th>496</th>\n",
       "      <th>497</th>\n",
       "      <th>498</th>\n",
       "      <th>499</th>\n",
       "    </tr>\n",
       "  </thead>\n",
       "  <tbody>\n",
       "    <tr>\n",
       "      <th>0</th>\n",
       "      <td>1.000000</td>\n",
       "      <td>1.000000</td>\n",
       "      <td>1.000000</td>\n",
       "      <td>1.000000</td>\n",
       "      <td>1.000000</td>\n",
       "      <td>1.000000</td>\n",
       "      <td>1.000000</td>\n",
       "      <td>1.000000</td>\n",
       "      <td>1.000000</td>\n",
       "      <td>1.000000</td>\n",
       "      <td>...</td>\n",
       "      <td>1.000000</td>\n",
       "      <td>1.000000</td>\n",
       "      <td>1.000000</td>\n",
       "      <td>1.000000</td>\n",
       "      <td>1.000000</td>\n",
       "      <td>1.000000</td>\n",
       "      <td>1.000000</td>\n",
       "      <td>1.000000</td>\n",
       "      <td>1.000000</td>\n",
       "      <td>1.000000</td>\n",
       "    </tr>\n",
       "    <tr>\n",
       "      <th>1</th>\n",
       "      <td>1.002406</td>\n",
       "      <td>1.001230</td>\n",
       "      <td>0.998964</td>\n",
       "      <td>1.004901</td>\n",
       "      <td>0.998732</td>\n",
       "      <td>0.995485</td>\n",
       "      <td>1.005809</td>\n",
       "      <td>1.005240</td>\n",
       "      <td>0.995670</td>\n",
       "      <td>1.002249</td>\n",
       "      <td>...</td>\n",
       "      <td>1.002349</td>\n",
       "      <td>1.001143</td>\n",
       "      <td>1.004777</td>\n",
       "      <td>0.997456</td>\n",
       "      <td>0.998110</td>\n",
       "      <td>1.003788</td>\n",
       "      <td>0.995242</td>\n",
       "      <td>0.999131</td>\n",
       "      <td>0.998996</td>\n",
       "      <td>1.002754</td>\n",
       "    </tr>\n",
       "    <tr>\n",
       "      <th>2</th>\n",
       "      <td>1.002820</td>\n",
       "      <td>1.000942</td>\n",
       "      <td>1.001263</td>\n",
       "      <td>1.001527</td>\n",
       "      <td>1.008880</td>\n",
       "      <td>0.997732</td>\n",
       "      <td>1.014629</td>\n",
       "      <td>1.009174</td>\n",
       "      <td>0.990208</td>\n",
       "      <td>0.998309</td>\n",
       "      <td>...</td>\n",
       "      <td>0.997837</td>\n",
       "      <td>1.006001</td>\n",
       "      <td>1.004855</td>\n",
       "      <td>0.996405</td>\n",
       "      <td>0.991924</td>\n",
       "      <td>1.015263</td>\n",
       "      <td>0.993499</td>\n",
       "      <td>0.992840</td>\n",
       "      <td>0.998400</td>\n",
       "      <td>0.995199</td>\n",
       "    </tr>\n",
       "    <tr>\n",
       "      <th>3</th>\n",
       "      <td>1.009061</td>\n",
       "      <td>1.002575</td>\n",
       "      <td>1.000881</td>\n",
       "      <td>1.000417</td>\n",
       "      <td>1.012282</td>\n",
       "      <td>0.992918</td>\n",
       "      <td>1.017654</td>\n",
       "      <td>1.002783</td>\n",
       "      <td>0.994560</td>\n",
       "      <td>0.998209</td>\n",
       "      <td>...</td>\n",
       "      <td>1.003763</td>\n",
       "      <td>1.007444</td>\n",
       "      <td>1.006510</td>\n",
       "      <td>0.997607</td>\n",
       "      <td>0.991335</td>\n",
       "      <td>1.007901</td>\n",
       "      <td>0.987671</td>\n",
       "      <td>0.996186</td>\n",
       "      <td>1.001325</td>\n",
       "      <td>0.985407</td>\n",
       "    </tr>\n",
       "    <tr>\n",
       "      <th>4</th>\n",
       "      <td>1.016086</td>\n",
       "      <td>0.998357</td>\n",
       "      <td>1.000422</td>\n",
       "      <td>1.004517</td>\n",
       "      <td>1.013847</td>\n",
       "      <td>0.993105</td>\n",
       "      <td>1.013339</td>\n",
       "      <td>0.998971</td>\n",
       "      <td>0.993129</td>\n",
       "      <td>0.999413</td>\n",
       "      <td>...</td>\n",
       "      <td>1.000209</td>\n",
       "      <td>1.005411</td>\n",
       "      <td>1.008640</td>\n",
       "      <td>1.002152</td>\n",
       "      <td>0.996362</td>\n",
       "      <td>1.000718</td>\n",
       "      <td>0.986652</td>\n",
       "      <td>0.987922</td>\n",
       "      <td>1.014331</td>\n",
       "      <td>0.991284</td>\n",
       "    </tr>\n",
       "    <tr>\n",
       "      <th>...</th>\n",
       "      <td>...</td>\n",
       "      <td>...</td>\n",
       "      <td>...</td>\n",
       "      <td>...</td>\n",
       "      <td>...</td>\n",
       "      <td>...</td>\n",
       "      <td>...</td>\n",
       "      <td>...</td>\n",
       "      <td>...</td>\n",
       "      <td>...</td>\n",
       "      <td>...</td>\n",
       "      <td>...</td>\n",
       "      <td>...</td>\n",
       "      <td>...</td>\n",
       "      <td>...</td>\n",
       "      <td>...</td>\n",
       "      <td>...</td>\n",
       "      <td>...</td>\n",
       "      <td>...</td>\n",
       "      <td>...</td>\n",
       "      <td>...</td>\n",
       "    </tr>\n",
       "    <tr>\n",
       "      <th>7556</th>\n",
       "      <td>28.030911</td>\n",
       "      <td>37.405939</td>\n",
       "      <td>24.668193</td>\n",
       "      <td>47.209859</td>\n",
       "      <td>22.520441</td>\n",
       "      <td>23.652848</td>\n",
       "      <td>31.651462</td>\n",
       "      <td>30.615852</td>\n",
       "      <td>39.231077</td>\n",
       "      <td>23.520117</td>\n",
       "      <td>...</td>\n",
       "      <td>68.341627</td>\n",
       "      <td>27.349744</td>\n",
       "      <td>31.023659</td>\n",
       "      <td>35.284010</td>\n",
       "      <td>50.207835</td>\n",
       "      <td>27.869737</td>\n",
       "      <td>23.344379</td>\n",
       "      <td>16.620935</td>\n",
       "      <td>34.525911</td>\n",
       "      <td>62.741476</td>\n",
       "    </tr>\n",
       "    <tr>\n",
       "      <th>7557</th>\n",
       "      <td>28.100679</td>\n",
       "      <td>37.350037</td>\n",
       "      <td>24.743653</td>\n",
       "      <td>47.183273</td>\n",
       "      <td>22.516468</td>\n",
       "      <td>23.647467</td>\n",
       "      <td>31.650875</td>\n",
       "      <td>30.826689</td>\n",
       "      <td>39.390006</td>\n",
       "      <td>23.566772</td>\n",
       "      <td>...</td>\n",
       "      <td>68.091843</td>\n",
       "      <td>27.457265</td>\n",
       "      <td>30.901467</td>\n",
       "      <td>35.299930</td>\n",
       "      <td>50.077861</td>\n",
       "      <td>27.786322</td>\n",
       "      <td>23.383160</td>\n",
       "      <td>16.627983</td>\n",
       "      <td>34.585619</td>\n",
       "      <td>62.590230</td>\n",
       "    </tr>\n",
       "    <tr>\n",
       "      <th>7558</th>\n",
       "      <td>27.984769</td>\n",
       "      <td>37.398970</td>\n",
       "      <td>24.712191</td>\n",
       "      <td>47.169630</td>\n",
       "      <td>22.426692</td>\n",
       "      <td>23.778172</td>\n",
       "      <td>31.644927</td>\n",
       "      <td>30.773266</td>\n",
       "      <td>39.758511</td>\n",
       "      <td>23.676854</td>\n",
       "      <td>...</td>\n",
       "      <td>67.902286</td>\n",
       "      <td>27.521867</td>\n",
       "      <td>30.885856</td>\n",
       "      <td>34.943243</td>\n",
       "      <td>50.344072</td>\n",
       "      <td>27.869713</td>\n",
       "      <td>23.441258</td>\n",
       "      <td>16.519794</td>\n",
       "      <td>34.336454</td>\n",
       "      <td>62.439266</td>\n",
       "    </tr>\n",
       "    <tr>\n",
       "      <th>7559</th>\n",
       "      <td>27.884567</td>\n",
       "      <td>37.587090</td>\n",
       "      <td>24.718771</td>\n",
       "      <td>47.193397</td>\n",
       "      <td>22.449825</td>\n",
       "      <td>23.950313</td>\n",
       "      <td>31.626778</td>\n",
       "      <td>30.950165</td>\n",
       "      <td>39.652674</td>\n",
       "      <td>23.614836</td>\n",
       "      <td>...</td>\n",
       "      <td>68.242568</td>\n",
       "      <td>27.588266</td>\n",
       "      <td>30.868128</td>\n",
       "      <td>35.243832</td>\n",
       "      <td>50.149038</td>\n",
       "      <td>27.944404</td>\n",
       "      <td>23.613556</td>\n",
       "      <td>16.542526</td>\n",
       "      <td>34.318662</td>\n",
       "      <td>62.309319</td>\n",
       "    </tr>\n",
       "    <tr>\n",
       "      <th>7560</th>\n",
       "      <td>27.879213</td>\n",
       "      <td>37.317320</td>\n",
       "      <td>24.883653</td>\n",
       "      <td>47.342378</td>\n",
       "      <td>22.320469</td>\n",
       "      <td>23.949491</td>\n",
       "      <td>31.662563</td>\n",
       "      <td>31.219180</td>\n",
       "      <td>39.750457</td>\n",
       "      <td>23.624769</td>\n",
       "      <td>...</td>\n",
       "      <td>68.090630</td>\n",
       "      <td>27.645684</td>\n",
       "      <td>30.789391</td>\n",
       "      <td>35.544020</td>\n",
       "      <td>50.010503</td>\n",
       "      <td>28.034279</td>\n",
       "      <td>23.570843</td>\n",
       "      <td>16.679932</td>\n",
       "      <td>34.583051</td>\n",
       "      <td>62.885517</td>\n",
       "    </tr>\n",
       "  </tbody>\n",
       "</table>\n",
       "<p>7561 rows × 500 columns</p>\n",
       "</div>"
      ],
      "text/plain": [
       "            0          1          2          3          4          5    \\\n",
       "0      1.000000   1.000000   1.000000   1.000000   1.000000   1.000000   \n",
       "1      1.002406   1.001230   0.998964   1.004901   0.998732   0.995485   \n",
       "2      1.002820   1.000942   1.001263   1.001527   1.008880   0.997732   \n",
       "3      1.009061   1.002575   1.000881   1.000417   1.012282   0.992918   \n",
       "4      1.016086   0.998357   1.000422   1.004517   1.013847   0.993105   \n",
       "...         ...        ...        ...        ...        ...        ...   \n",
       "7556  28.030911  37.405939  24.668193  47.209859  22.520441  23.652848   \n",
       "7557  28.100679  37.350037  24.743653  47.183273  22.516468  23.647467   \n",
       "7558  27.984769  37.398970  24.712191  47.169630  22.426692  23.778172   \n",
       "7559  27.884567  37.587090  24.718771  47.193397  22.449825  23.950313   \n",
       "7560  27.879213  37.317320  24.883653  47.342378  22.320469  23.949491   \n",
       "\n",
       "            6          7          8          9    ...        490        491  \\\n",
       "0      1.000000   1.000000   1.000000   1.000000  ...   1.000000   1.000000   \n",
       "1      1.005809   1.005240   0.995670   1.002249  ...   1.002349   1.001143   \n",
       "2      1.014629   1.009174   0.990208   0.998309  ...   0.997837   1.006001   \n",
       "3      1.017654   1.002783   0.994560   0.998209  ...   1.003763   1.007444   \n",
       "4      1.013339   0.998971   0.993129   0.999413  ...   1.000209   1.005411   \n",
       "...         ...        ...        ...        ...  ...        ...        ...   \n",
       "7556  31.651462  30.615852  39.231077  23.520117  ...  68.341627  27.349744   \n",
       "7557  31.650875  30.826689  39.390006  23.566772  ...  68.091843  27.457265   \n",
       "7558  31.644927  30.773266  39.758511  23.676854  ...  67.902286  27.521867   \n",
       "7559  31.626778  30.950165  39.652674  23.614836  ...  68.242568  27.588266   \n",
       "7560  31.662563  31.219180  39.750457  23.624769  ...  68.090630  27.645684   \n",
       "\n",
       "            492        493        494        495        496        497  \\\n",
       "0      1.000000   1.000000   1.000000   1.000000   1.000000   1.000000   \n",
       "1      1.004777   0.997456   0.998110   1.003788   0.995242   0.999131   \n",
       "2      1.004855   0.996405   0.991924   1.015263   0.993499   0.992840   \n",
       "3      1.006510   0.997607   0.991335   1.007901   0.987671   0.996186   \n",
       "4      1.008640   1.002152   0.996362   1.000718   0.986652   0.987922   \n",
       "...         ...        ...        ...        ...        ...        ...   \n",
       "7556  31.023659  35.284010  50.207835  27.869737  23.344379  16.620935   \n",
       "7557  30.901467  35.299930  50.077861  27.786322  23.383160  16.627983   \n",
       "7558  30.885856  34.943243  50.344072  27.869713  23.441258  16.519794   \n",
       "7559  30.868128  35.243832  50.149038  27.944404  23.613556  16.542526   \n",
       "7560  30.789391  35.544020  50.010503  28.034279  23.570843  16.679932   \n",
       "\n",
       "            498        499  \n",
       "0      1.000000   1.000000  \n",
       "1      0.998996   1.002754  \n",
       "2      0.998400   0.995199  \n",
       "3      1.001325   0.985407  \n",
       "4      1.014331   0.991284  \n",
       "...         ...        ...  \n",
       "7556  34.525911  62.741476  \n",
       "7557  34.585619  62.590230  \n",
       "7558  34.336454  62.439266  \n",
       "7559  34.318662  62.309319  \n",
       "7560  34.583051  62.885517  \n",
       "\n",
       "[7561 rows x 500 columns]"
      ]
     },
     "execution_count": 31,
     "metadata": {},
     "output_type": "execute_result"
    }
   ],
   "source": [
    "# Run the Monte Carlo simulation to forecast 30 years cumulative returns\n",
    "thirty_year_simulation.calc_cumulative_return()"
   ]
  },
  {
   "cell_type": "code",
   "execution_count": 32,
   "metadata": {},
   "outputs": [
    {
     "data": {
      "text/plain": [
       "<AxesSubplot:title={'center':'500 Simulations of Cumulative Portfolio Return Trajectories Over the Next 7560 Trading Days.'}>"
      ]
     },
     "execution_count": 32,
     "metadata": {},
     "output_type": "execute_result"
    },
    {
     "data": {
      "image/png": "[encoded data removed]",
      "text/plain": [
       "<Figure size 432x288 with 1 Axes>"
      ]
     },
     "metadata": {
      "needs_background": "light"
     },
     "output_type": "display_data"
    }
   ],
   "source": [
    "### Visualize the 30-year Monte Carlo simulation by creating an\n",
    "# overlay line plot\n",
    "thirty_year_simulation.plot_simulation()"
   ]
  },
  {
   "cell_type": "markdown",
   "metadata": {},
   "source": [
    "#### Step 3: Plot the probability distribution of the Monte Carlo simulation."
   ]
  },
  {
   "cell_type": "code",
   "execution_count": 33,
   "metadata": {},
   "outputs": [
    {
     "data": {
      "text/plain": [
       "<AxesSubplot:title={'center':'Distribution of Final Cumuluative Returns Across All 500 Simulations'}, ylabel='Frequency'>"
      ]
     },
     "execution_count": 33,
     "metadata": {},
     "output_type": "execute_result"
    },
    {
     "data": {
      "image/png": "[encoded data removed]",
      "text/plain": [
       "<Figure size 432x288 with 1 Axes>"
      ]
     },
     "metadata": {
      "needs_background": "light"
     },
     "output_type": "display_data"
    }
   ],
   "source": [
    "# Visualize the probability distribution of the 30-year Monte Carlo simulation \n",
    "# by plotting a histogram\n",
    "thirty_year_simulation.plot_distribution()"
   ]
  },
  {
   "cell_type": "markdown",
   "metadata": {},
   "source": [
    "#### Step 4: Generate the summary statistics for the Monte Carlo simulation."
   ]
  },
  {
   "cell_type": "code",
   "execution_count": 34,
   "metadata": {},
   "outputs": [
    {
     "data": {
      "text/plain": [
       "count           500.000000\n",
       "mean             31.158117\n",
       "std              11.825937\n",
       "min               9.948483\n",
       "25%              23.042305\n",
       "50%              29.168570\n",
       "75%              36.910780\n",
       "max              76.927008\n",
       "95% CI Lower     14.285925\n",
       "95% CI Upper     62.288960\n",
       "Name: 7560, dtype: float64"
      ]
     },
     "execution_count": 34,
     "metadata": {},
     "output_type": "execute_result"
    }
   ],
   "source": [
    "# Generate summary statistics from the 30-year Monte Carlo simulation results\n",
    "# Save the results as a variable\n",
    "thirty_tbl=thirty_year_simulation.summarize_cumulative_return()\n",
    "\n",
    "# Review the 30-year Monte Carlo summary statistics\n",
    "thirty_tbl"
   ]
  },
  {
   "cell_type": "markdown",
   "metadata": {},
   "source": [
    "### Analyze the Retirement Portfolio Forecasts\n",
    "\n",
    "Using the current value of only the stock and bond portion of the member's portfolio and the summary statistics that you generated from the Monte Carlo simulation, answer the following question in your Jupyter notebook:\n",
    "\n",
    "-  What are the lower and upper bounds for the expected value of the portfolio with a 95% confidence interval?\n"
   ]
  },
  {
   "cell_type": "code",
   "execution_count": 35,
   "metadata": {},
   "outputs": [
    {
     "name": "stdout",
     "output_type": "stream",
     "text": [
      "The current balance of the stock and bond portion of the portfolio is: $72667.10\n"
     ]
    }
   ],
   "source": [
    "# Print the current balance of the stock and bond portion of the members portfolio\n",
    "print(f'The current balance of the stock and bond portion of the portfolio is: ${total_stocks_bonds:.2f}')"
   ]
  },
  {
   "cell_type": "code",
   "execution_count": 36,
   "metadata": {},
   "outputs": [
    {
     "name": "stdout",
     "output_type": "stream",
     "text": [
      "There is a 95% chance that your current stock/bond portfolio over the next year will end within in the range of $1038116.74 and $4526358.08.\n"
     ]
    }
   ],
   "source": [
    "# Use the lower and upper `95%` confidence intervals to calculate the range of the possible outcomes for the current stock/bond portfolio\n",
    "ci_lower_thirty_cumulative_return = round(thirty_tbl[8] * total_stocks_bonds,2)\n",
    "ci_upper_thirty_cumulative_return = round(thirty_tbl[9] * total_stocks_bonds,2)\n",
    "\n",
    "# Print the result of your calculations\n",
    "print(f\"There is a 95% chance that your current stock/bond portfolio\"\n",
    "      f\" over the next year will end within in the range of\"\n",
    "      f\" ${ci_lower_thirty_cumulative_return} and ${ci_upper_thirty_cumulative_return}.\")"
   ]
  },
  {
   "cell_type": "markdown",
   "metadata": {},
   "source": [
    "### Forecast Cumulative Returns in 10 Years\n",
    "\n",
    "The CTO of the credit union is impressed with your work on these planning tools but wonders if 30 years is a long time to wait until retirement. So, your next task is to adjust the retirement portfolio and run a new Monte Carlo simulation to find out if the changes will allow members to retire earlier.\n",
    "\n",
    "For this new Monte Carlo simulation, do the following: \n",
    "\n",
    "- Forecast the cumulative returns for 10 years from now. Because of the shortened investment horizon (30 years to 10 years), the portfolio needs to invest more heavily in the riskier asset&mdash;that is, stock&mdash;to help accumulate wealth for retirement. \n",
    "\n",
    "- Adjust the weights of the retirement portfolio so that the composition for the Monte Carlo simulation consists of 20% bonds and 80% stocks. \n",
    "\n",
    "- Run the simulation over 500 samples, and use the same data that the API call to Alpaca generated.\n",
    "\n",
    "- Based on the new Monte Carlo simulation, answer the following questions in your Jupyter notebook:\n",
    "\n",
    "    - Using the current value of only the stock and bond portion of the member's portfolio and the summary statistics that you generated from the new Monte Carlo simulation, what are the lower and upper bounds for the expected value of the portfolio (with the new weights) with a 95% confidence interval?\n",
    "\n",
    "    - Will weighting the portfolio more heavily toward stocks allow the credit union members to retire after only 10 years?\n"
   ]
  },
  {
   "cell_type": "code",
   "execution_count": 37,
   "metadata": {},
   "outputs": [
    {
     "data": {
      "text/html": [
       "<div>\n",
       "<style scoped>\n",
       "    .dataframe tbody tr th:only-of-type {\n",
       "        vertical-align: middle;\n",
       "    }\n",
       "\n",
       "    .dataframe tbody tr th {\n",
       "        vertical-align: top;\n",
       "    }\n",
       "\n",
       "    .dataframe thead tr th {\n",
       "        text-align: left;\n",
       "    }\n",
       "\n",
       "    .dataframe thead tr:last-of-type th {\n",
       "        text-align: right;\n",
       "    }\n",
       "</style>\n",
       "<table border=\"1\" class=\"dataframe\">\n",
       "  <thead>\n",
       "    <tr>\n",
       "      <th></th>\n",
       "      <th colspan=\"6\" halign=\"left\">AGG</th>\n",
       "      <th colspan=\"6\" halign=\"left\">SPY</th>\n",
       "    </tr>\n",
       "    <tr>\n",
       "      <th></th>\n",
       "      <th>open</th>\n",
       "      <th>high</th>\n",
       "      <th>low</th>\n",
       "      <th>close</th>\n",
       "      <th>volume</th>\n",
       "      <th>daily_return</th>\n",
       "      <th>open</th>\n",
       "      <th>high</th>\n",
       "      <th>low</th>\n",
       "      <th>close</th>\n",
       "      <th>volume</th>\n",
       "      <th>daily_return</th>\n",
       "    </tr>\n",
       "    <tr>\n",
       "      <th>time</th>\n",
       "      <th></th>\n",
       "      <th></th>\n",
       "      <th></th>\n",
       "      <th></th>\n",
       "      <th></th>\n",
       "      <th></th>\n",
       "      <th></th>\n",
       "      <th></th>\n",
       "      <th></th>\n",
       "      <th></th>\n",
       "      <th></th>\n",
       "      <th></th>\n",
       "    </tr>\n",
       "  </thead>\n",
       "  <tbody>\n",
       "    <tr>\n",
       "      <th>2021-06-08 00:00:00-04:00</th>\n",
       "      <td>114.84</td>\n",
       "      <td>114.87</td>\n",
       "      <td>114.7800</td>\n",
       "      <td>114.82</td>\n",
       "      <td>3951702</td>\n",
       "      <td>NaN</td>\n",
       "      <td>423.11</td>\n",
       "      <td>423.21</td>\n",
       "      <td>420.32</td>\n",
       "      <td>422.27</td>\n",
       "      <td>40131441</td>\n",
       "      <td>NaN</td>\n",
       "    </tr>\n",
       "    <tr>\n",
       "      <th>2021-06-09 00:00:00-04:00</th>\n",
       "      <td>115.43</td>\n",
       "      <td>115.43</td>\n",
       "      <td>114.9700</td>\n",
       "      <td>115.05</td>\n",
       "      <td>3418086</td>\n",
       "      <td>0.002003</td>\n",
       "      <td>423.18</td>\n",
       "      <td>423.26</td>\n",
       "      <td>421.41</td>\n",
       "      <td>421.62</td>\n",
       "      <td>38368598</td>\n",
       "      <td>-0.001539</td>\n",
       "    </tr>\n",
       "    <tr>\n",
       "      <th>2021-06-10 00:00:00-04:00</th>\n",
       "      <td>115.30</td>\n",
       "      <td>115.31</td>\n",
       "      <td>114.8605</td>\n",
       "      <td>115.30</td>\n",
       "      <td>3665934</td>\n",
       "      <td>0.002173</td>\n",
       "      <td>422.96</td>\n",
       "      <td>424.63</td>\n",
       "      <td>421.55</td>\n",
       "      <td>423.58</td>\n",
       "      <td>43577329</td>\n",
       "      <td>0.004649</td>\n",
       "    </tr>\n",
       "    <tr>\n",
       "      <th>2021-06-11 00:00:00-04:00</th>\n",
       "      <td>115.31</td>\n",
       "      <td>115.32</td>\n",
       "      <td>115.1600</td>\n",
       "      <td>115.24</td>\n",
       "      <td>3476373</td>\n",
       "      <td>-0.000520</td>\n",
       "      <td>424.19</td>\n",
       "      <td>424.42</td>\n",
       "      <td>422.82</td>\n",
       "      <td>424.31</td>\n",
       "      <td>37018077</td>\n",
       "      <td>0.001723</td>\n",
       "    </tr>\n",
       "    <tr>\n",
       "      <th>2021-06-14 00:00:00-04:00</th>\n",
       "      <td>115.18</td>\n",
       "      <td>115.18</td>\n",
       "      <td>114.9350</td>\n",
       "      <td>114.97</td>\n",
       "      <td>2999623</td>\n",
       "      <td>-0.002343</td>\n",
       "      <td>424.43</td>\n",
       "      <td>425.29</td>\n",
       "      <td>423.10</td>\n",
       "      <td>425.29</td>\n",
       "      <td>33128340</td>\n",
       "      <td>0.002310</td>\n",
       "    </tr>\n",
       "  </tbody>\n",
       "</table>\n",
       "</div>"
      ],
      "text/plain": [
       "                              AGG                                     \\\n",
       "                             open    high       low   close   volume   \n",
       "time                                                                   \n",
       "2021-06-08 00:00:00-04:00  114.84  114.87  114.7800  114.82  3951702   \n",
       "2021-06-09 00:00:00-04:00  115.43  115.43  114.9700  115.05  3418086   \n",
       "2021-06-10 00:00:00-04:00  115.30  115.31  114.8605  115.30  3665934   \n",
       "2021-06-11 00:00:00-04:00  115.31  115.32  115.1600  115.24  3476373   \n",
       "2021-06-14 00:00:00-04:00  115.18  115.18  114.9350  114.97  2999623   \n",
       "\n",
       "                                           SPY                          \\\n",
       "                          daily_return    open    high     low   close   \n",
       "time                                                                     \n",
       "2021-06-08 00:00:00-04:00          NaN  423.11  423.21  420.32  422.27   \n",
       "2021-06-09 00:00:00-04:00     0.002003  423.18  423.26  421.41  421.62   \n",
       "2021-06-10 00:00:00-04:00     0.002173  422.96  424.63  421.55  423.58   \n",
       "2021-06-11 00:00:00-04:00    -0.000520  424.19  424.42  422.82  424.31   \n",
       "2021-06-14 00:00:00-04:00    -0.002343  424.43  425.29  423.10  425.29   \n",
       "\n",
       "                                                  \n",
       "                             volume daily_return  \n",
       "time                                              \n",
       "2021-06-08 00:00:00-04:00  40131441          NaN  \n",
       "2021-06-09 00:00:00-04:00  38368598    -0.001539  \n",
       "2021-06-10 00:00:00-04:00  43577329     0.004649  \n",
       "2021-06-11 00:00:00-04:00  37018077     0.001723  \n",
       "2021-06-14 00:00:00-04:00  33128340     0.002310  "
      ]
     },
     "execution_count": 37,
     "metadata": {},
     "output_type": "execute_result"
    }
   ],
   "source": [
    "# Configure a Monte Carlo simulation to forecast 10 years cumulative returns\n",
    "# The weights should be split 20% to AGG and 80% to SPY.\n",
    "# Run 500 samples.\n",
    "ten_year_simulation = MCSimulation(\n",
    "    portfolio_data=three_yr_portfolio,\n",
    "    weights=[0.20, 0.80],\n",
    "    num_simulation=500,\n",
    "    num_trading_days=252*10,\n",
    ")\n",
    "# Review the simulation input data\n",
    "ten_year_simulation.portfolio_data.head()"
   ]
  },
  {
   "cell_type": "code",
   "execution_count": 38,
   "metadata": {},
   "outputs": [
    {
     "name": "stdout",
     "output_type": "stream",
     "text": [
      "Running Monte Carlo simulation number 0.\n",
      "Running Monte Carlo simulation number 10.\n",
      "Running Monte Carlo simulation number 20.\n",
      "Running Monte Carlo simulation number 30.\n",
      "Running Monte Carlo simulation number 40.\n",
      "Running Monte Carlo simulation number 50.\n",
      "Running Monte Carlo simulation number 60.\n",
      "Running Monte Carlo simulation number 70.\n",
      "Running Monte Carlo simulation number 80.\n",
      "Running Monte Carlo simulation number 90.\n",
      "Running Monte Carlo simulation number 100.\n",
      "Running Monte Carlo simulation number 110.\n",
      "Running Monte Carlo simulation number 120.\n",
      "Running Monte Carlo simulation number 130.\n",
      "Running Monte Carlo simulation number 140.\n",
      "Running Monte Carlo simulation number 150.\n",
      "Running Monte Carlo simulation number 160.\n",
      "Running Monte Carlo simulation number 170.\n",
      "Running Monte Carlo simulation number 180.\n",
      "Running Monte Carlo simulation number 190.\n",
      "Running Monte Carlo simulation number 200.\n",
      "Running Monte Carlo simulation number 210.\n",
      "Running Monte Carlo simulation number 220.\n",
      "Running Monte Carlo simulation number 230.\n",
      "Running Monte Carlo simulation number 240.\n",
      "Running Monte Carlo simulation number 250.\n",
      "Running Monte Carlo simulation number 260.\n",
      "Running Monte Carlo simulation number 270.\n",
      "Running Monte Carlo simulation number 280.\n",
      "Running Monte Carlo simulation number 290.\n",
      "Running Monte Carlo simulation number 300.\n",
      "Running Monte Carlo simulation number 310.\n",
      "Running Monte Carlo simulation number 320.\n",
      "Running Monte Carlo simulation number 330.\n",
      "Running Monte Carlo simulation number 340.\n",
      "Running Monte Carlo simulation number 350.\n",
      "Running Monte Carlo simulation number 360.\n",
      "Running Monte Carlo simulation number 370.\n",
      "Running Monte Carlo simulation number 380.\n",
      "Running Monte Carlo simulation number 390.\n",
      "Running Monte Carlo simulation number 400.\n",
      "Running Monte Carlo simulation number 410.\n",
      "Running Monte Carlo simulation number 420.\n",
      "Running Monte Carlo simulation number 430.\n",
      "Running Monte Carlo simulation number 440.\n",
      "Running Monte Carlo simulation number 450.\n",
      "Running Monte Carlo simulation number 460.\n",
      "Running Monte Carlo simulation number 470.\n",
      "Running Monte Carlo simulation number 480.\n",
      "Running Monte Carlo simulation number 490.\n"
     ]
    },
    {
     "data": {
      "text/html": [
       "<div>\n",
       "<style scoped>\n",
       "    .dataframe tbody tr th:only-of-type {\n",
       "        vertical-align: middle;\n",
       "    }\n",
       "\n",
       "    .dataframe tbody tr th {\n",
       "        vertical-align: top;\n",
       "    }\n",
       "\n",
       "    .dataframe thead th {\n",
       "        text-align: right;\n",
       "    }\n",
       "</style>\n",
       "<table border=\"1\" class=\"dataframe\">\n",
       "  <thead>\n",
       "    <tr style=\"text-align: right;\">\n",
       "      <th></th>\n",
       "      <th>0</th>\n",
       "      <th>1</th>\n",
       "      <th>2</th>\n",
       "      <th>3</th>\n",
       "      <th>4</th>\n",
       "      <th>5</th>\n",
       "      <th>6</th>\n",
       "      <th>7</th>\n",
       "      <th>8</th>\n",
       "      <th>9</th>\n",
       "      <th>...</th>\n",
       "      <th>490</th>\n",
       "      <th>491</th>\n",
       "      <th>492</th>\n",
       "      <th>493</th>\n",
       "      <th>494</th>\n",
       "      <th>495</th>\n",
       "      <th>496</th>\n",
       "      <th>497</th>\n",
       "      <th>498</th>\n",
       "      <th>499</th>\n",
       "    </tr>\n",
       "  </thead>\n",
       "  <tbody>\n",
       "    <tr>\n",
       "      <th>0</th>\n",
       "      <td>1.000000</td>\n",
       "      <td>1.000000</td>\n",
       "      <td>1.000000</td>\n",
       "      <td>1.000000</td>\n",
       "      <td>1.000000</td>\n",
       "      <td>1.000000</td>\n",
       "      <td>1.000000</td>\n",
       "      <td>1.000000</td>\n",
       "      <td>1.000000</td>\n",
       "      <td>1.000000</td>\n",
       "      <td>...</td>\n",
       "      <td>1.000000</td>\n",
       "      <td>1.000000</td>\n",
       "      <td>1.000000</td>\n",
       "      <td>1.000000</td>\n",
       "      <td>1.000000</td>\n",
       "      <td>1.000000</td>\n",
       "      <td>1.000000</td>\n",
       "      <td>1.000000</td>\n",
       "      <td>1.000000</td>\n",
       "      <td>1.000000</td>\n",
       "    </tr>\n",
       "    <tr>\n",
       "      <th>1</th>\n",
       "      <td>0.996686</td>\n",
       "      <td>1.003969</td>\n",
       "      <td>1.004916</td>\n",
       "      <td>0.994064</td>\n",
       "      <td>1.000928</td>\n",
       "      <td>0.995919</td>\n",
       "      <td>0.995431</td>\n",
       "      <td>1.002035</td>\n",
       "      <td>1.000696</td>\n",
       "      <td>1.002050</td>\n",
       "      <td>...</td>\n",
       "      <td>0.995774</td>\n",
       "      <td>0.998322</td>\n",
       "      <td>0.993781</td>\n",
       "      <td>1.010995</td>\n",
       "      <td>1.005748</td>\n",
       "      <td>1.002060</td>\n",
       "      <td>0.995622</td>\n",
       "      <td>1.003322</td>\n",
       "      <td>1.004654</td>\n",
       "      <td>0.987432</td>\n",
       "    </tr>\n",
       "    <tr>\n",
       "      <th>2</th>\n",
       "      <td>0.996002</td>\n",
       "      <td>0.996378</td>\n",
       "      <td>1.000512</td>\n",
       "      <td>0.998666</td>\n",
       "      <td>0.999387</td>\n",
       "      <td>0.985237</td>\n",
       "      <td>0.992027</td>\n",
       "      <td>1.001916</td>\n",
       "      <td>1.002718</td>\n",
       "      <td>1.006047</td>\n",
       "      <td>...</td>\n",
       "      <td>1.003029</td>\n",
       "      <td>0.999611</td>\n",
       "      <td>0.994926</td>\n",
       "      <td>1.012113</td>\n",
       "      <td>1.008234</td>\n",
       "      <td>1.004870</td>\n",
       "      <td>0.988352</td>\n",
       "      <td>0.998783</td>\n",
       "      <td>1.019706</td>\n",
       "      <td>0.985252</td>\n",
       "    </tr>\n",
       "    <tr>\n",
       "      <th>3</th>\n",
       "      <td>1.001908</td>\n",
       "      <td>0.999628</td>\n",
       "      <td>0.993864</td>\n",
       "      <td>0.998196</td>\n",
       "      <td>0.989443</td>\n",
       "      <td>0.986249</td>\n",
       "      <td>0.991462</td>\n",
       "      <td>1.000197</td>\n",
       "      <td>1.001540</td>\n",
       "      <td>1.012195</td>\n",
       "      <td>...</td>\n",
       "      <td>1.008237</td>\n",
       "      <td>1.001192</td>\n",
       "      <td>0.998106</td>\n",
       "      <td>1.015770</td>\n",
       "      <td>1.010172</td>\n",
       "      <td>1.005718</td>\n",
       "      <td>0.986360</td>\n",
       "      <td>0.993262</td>\n",
       "      <td>1.021829</td>\n",
       "      <td>0.987701</td>\n",
       "    </tr>\n",
       "    <tr>\n",
       "      <th>4</th>\n",
       "      <td>1.008757</td>\n",
       "      <td>1.006673</td>\n",
       "      <td>0.996856</td>\n",
       "      <td>0.998135</td>\n",
       "      <td>0.982043</td>\n",
       "      <td>0.994561</td>\n",
       "      <td>0.987042</td>\n",
       "      <td>1.012912</td>\n",
       "      <td>0.997258</td>\n",
       "      <td>1.007512</td>\n",
       "      <td>...</td>\n",
       "      <td>1.005693</td>\n",
       "      <td>0.993249</td>\n",
       "      <td>0.994319</td>\n",
       "      <td>1.014219</td>\n",
       "      <td>1.007934</td>\n",
       "      <td>1.009813</td>\n",
       "      <td>0.983497</td>\n",
       "      <td>0.988252</td>\n",
       "      <td>1.022506</td>\n",
       "      <td>0.991632</td>\n",
       "    </tr>\n",
       "    <tr>\n",
       "      <th>...</th>\n",
       "      <td>...</td>\n",
       "      <td>...</td>\n",
       "      <td>...</td>\n",
       "      <td>...</td>\n",
       "      <td>...</td>\n",
       "      <td>...</td>\n",
       "      <td>...</td>\n",
       "      <td>...</td>\n",
       "      <td>...</td>\n",
       "      <td>...</td>\n",
       "      <td>...</td>\n",
       "      <td>...</td>\n",
       "      <td>...</td>\n",
       "      <td>...</td>\n",
       "      <td>...</td>\n",
       "      <td>...</td>\n",
       "      <td>...</td>\n",
       "      <td>...</td>\n",
       "      <td>...</td>\n",
       "      <td>...</td>\n",
       "      <td>...</td>\n",
       "    </tr>\n",
       "    <tr>\n",
       "      <th>2516</th>\n",
       "      <td>5.528957</td>\n",
       "      <td>5.106858</td>\n",
       "      <td>4.159647</td>\n",
       "      <td>3.679087</td>\n",
       "      <td>4.240004</td>\n",
       "      <td>4.542804</td>\n",
       "      <td>4.145397</td>\n",
       "      <td>5.472170</td>\n",
       "      <td>6.214816</td>\n",
       "      <td>3.148933</td>\n",
       "      <td>...</td>\n",
       "      <td>2.487638</td>\n",
       "      <td>5.326155</td>\n",
       "      <td>3.974700</td>\n",
       "      <td>3.096506</td>\n",
       "      <td>7.626031</td>\n",
       "      <td>3.945279</td>\n",
       "      <td>5.200642</td>\n",
       "      <td>4.883835</td>\n",
       "      <td>4.527688</td>\n",
       "      <td>2.653837</td>\n",
       "    </tr>\n",
       "    <tr>\n",
       "      <th>2517</th>\n",
       "      <td>5.533872</td>\n",
       "      <td>5.100893</td>\n",
       "      <td>4.172068</td>\n",
       "      <td>3.658683</td>\n",
       "      <td>4.255179</td>\n",
       "      <td>4.558117</td>\n",
       "      <td>4.125328</td>\n",
       "      <td>5.497043</td>\n",
       "      <td>6.178001</td>\n",
       "      <td>3.177241</td>\n",
       "      <td>...</td>\n",
       "      <td>2.484584</td>\n",
       "      <td>5.317688</td>\n",
       "      <td>3.938684</td>\n",
       "      <td>3.108611</td>\n",
       "      <td>7.634717</td>\n",
       "      <td>3.965337</td>\n",
       "      <td>5.194737</td>\n",
       "      <td>4.915034</td>\n",
       "      <td>4.527685</td>\n",
       "      <td>2.650982</td>\n",
       "    </tr>\n",
       "    <tr>\n",
       "      <th>2518</th>\n",
       "      <td>5.520605</td>\n",
       "      <td>5.152993</td>\n",
       "      <td>4.152630</td>\n",
       "      <td>3.649069</td>\n",
       "      <td>4.280630</td>\n",
       "      <td>4.563013</td>\n",
       "      <td>4.165554</td>\n",
       "      <td>5.513886</td>\n",
       "      <td>6.230247</td>\n",
       "      <td>3.182171</td>\n",
       "      <td>...</td>\n",
       "      <td>2.486697</td>\n",
       "      <td>5.325275</td>\n",
       "      <td>3.939582</td>\n",
       "      <td>3.098599</td>\n",
       "      <td>7.619213</td>\n",
       "      <td>3.989910</td>\n",
       "      <td>5.169170</td>\n",
       "      <td>4.943450</td>\n",
       "      <td>4.519936</td>\n",
       "      <td>2.647963</td>\n",
       "    </tr>\n",
       "    <tr>\n",
       "      <th>2519</th>\n",
       "      <td>5.496475</td>\n",
       "      <td>5.125652</td>\n",
       "      <td>4.167166</td>\n",
       "      <td>3.655188</td>\n",
       "      <td>4.280573</td>\n",
       "      <td>4.587955</td>\n",
       "      <td>4.168351</td>\n",
       "      <td>5.531902</td>\n",
       "      <td>6.253192</td>\n",
       "      <td>3.155961</td>\n",
       "      <td>...</td>\n",
       "      <td>2.469957</td>\n",
       "      <td>5.327570</td>\n",
       "      <td>3.932455</td>\n",
       "      <td>3.102091</td>\n",
       "      <td>7.559300</td>\n",
       "      <td>3.989145</td>\n",
       "      <td>5.117184</td>\n",
       "      <td>4.959662</td>\n",
       "      <td>4.539151</td>\n",
       "      <td>2.647139</td>\n",
       "    </tr>\n",
       "    <tr>\n",
       "      <th>2520</th>\n",
       "      <td>5.471286</td>\n",
       "      <td>5.166573</td>\n",
       "      <td>4.169099</td>\n",
       "      <td>3.656978</td>\n",
       "      <td>4.263659</td>\n",
       "      <td>4.600532</td>\n",
       "      <td>4.141753</td>\n",
       "      <td>5.578293</td>\n",
       "      <td>6.261477</td>\n",
       "      <td>3.186749</td>\n",
       "      <td>...</td>\n",
       "      <td>2.469989</td>\n",
       "      <td>5.374526</td>\n",
       "      <td>3.921654</td>\n",
       "      <td>3.100162</td>\n",
       "      <td>7.612399</td>\n",
       "      <td>3.983899</td>\n",
       "      <td>5.119149</td>\n",
       "      <td>4.968517</td>\n",
       "      <td>4.485957</td>\n",
       "      <td>2.631524</td>\n",
       "    </tr>\n",
       "  </tbody>\n",
       "</table>\n",
       "<p>2521 rows × 500 columns</p>\n",
       "</div>"
      ],
      "text/plain": [
       "           0         1         2         3         4         5         6    \\\n",
       "0     1.000000  1.000000  1.000000  1.000000  1.000000  1.000000  1.000000   \n",
       "1     0.996686  1.003969  1.004916  0.994064  1.000928  0.995919  0.995431   \n",
       "2     0.996002  0.996378  1.000512  0.998666  0.999387  0.985237  0.992027   \n",
       "3     1.001908  0.999628  0.993864  0.998196  0.989443  0.986249  0.991462   \n",
       "4     1.008757  1.006673  0.996856  0.998135  0.982043  0.994561  0.987042   \n",
       "...        ...       ...       ...       ...       ...       ...       ...   \n",
       "2516  5.528957  5.106858  4.159647  3.679087  4.240004  4.542804  4.145397   \n",
       "2517  5.533872  5.100893  4.172068  3.658683  4.255179  4.558117  4.125328   \n",
       "2518  5.520605  5.152993  4.152630  3.649069  4.280630  4.563013  4.165554   \n",
       "2519  5.496475  5.125652  4.167166  3.655188  4.280573  4.587955  4.168351   \n",
       "2520  5.471286  5.166573  4.169099  3.656978  4.263659  4.600532  4.141753   \n",
       "\n",
       "           7         8         9    ...       490       491       492  \\\n",
       "0     1.000000  1.000000  1.000000  ...  1.000000  1.000000  1.000000   \n",
       "1     1.002035  1.000696  1.002050  ...  0.995774  0.998322  0.993781   \n",
       "2     1.001916  1.002718  1.006047  ...  1.003029  0.999611  0.994926   \n",
       "3     1.000197  1.001540  1.012195  ...  1.008237  1.001192  0.998106   \n",
       "4     1.012912  0.997258  1.007512  ...  1.005693  0.993249  0.994319   \n",
       "...        ...       ...       ...  ...       ...       ...       ...   \n",
       "2516  5.472170  6.214816  3.148933  ...  2.487638  5.326155  3.974700   \n",
       "2517  5.497043  6.178001  3.177241  ...  2.484584  5.317688  3.938684   \n",
       "2518  5.513886  6.230247  3.182171  ...  2.486697  5.325275  3.939582   \n",
       "2519  5.531902  6.253192  3.155961  ...  2.469957  5.327570  3.932455   \n",
       "2520  5.578293  6.261477  3.186749  ...  2.469989  5.374526  3.921654   \n",
       "\n",
       "           493       494       495       496       497       498       499  \n",
       "0     1.000000  1.000000  1.000000  1.000000  1.000000  1.000000  1.000000  \n",
       "1     1.010995  1.005748  1.002060  0.995622  1.003322  1.004654  0.987432  \n",
       "2     1.012113  1.008234  1.004870  0.988352  0.998783  1.019706  0.985252  \n",
       "3     1.015770  1.010172  1.005718  0.986360  0.993262  1.021829  0.987701  \n",
       "4     1.014219  1.007934  1.009813  0.983497  0.988252  1.022506  0.991632  \n",
       "...        ...       ...       ...       ...       ...       ...       ...  \n",
       "2516  3.096506  7.626031  3.945279  5.200642  4.883835  4.527688  2.653837  \n",
       "2517  3.108611  7.634717  3.965337  5.194737  4.915034  4.527685  2.650982  \n",
       "2518  3.098599  7.619213  3.989910  5.169170  4.943450  4.519936  2.647963  \n",
       "2519  3.102091  7.559300  3.989145  5.117184  4.959662  4.539151  2.647139  \n",
       "2520  3.100162  7.612399  3.983899  5.119149  4.968517  4.485957  2.631524  \n",
       "\n",
       "[2521 rows x 500 columns]"
      ]
     },
     "execution_count": 38,
     "metadata": {},
     "output_type": "execute_result"
    }
   ],
   "source": [
    "# Run the Monte Carlo simulation to forecast 10 years cumulative returns\n",
    "ten_year_simulation.calc_cumulative_return()"
   ]
  },
  {
   "cell_type": "code",
   "execution_count": 39,
   "metadata": {},
   "outputs": [
    {
     "data": {
      "text/plain": [
       "<AxesSubplot:title={'center':'500 Simulations of Cumulative Portfolio Return Trajectories Over the Next 2520 Trading Days.'}>"
      ]
     },
     "execution_count": 39,
     "metadata": {},
     "output_type": "execute_result"
    },
    {
     "data": {
      "image/png": "[encoded data removed]",
      "text/plain": [
       "<Figure size 432x288 with 1 Axes>"
      ]
     },
     "metadata": {
      "needs_background": "light"
     },
     "output_type": "display_data"
    }
   ],
   "source": [
    "# Visualize the 10-year Monte Carlo simulation by creating an\n",
    "# overlay line plot\n",
    "ten_year_simulation.plot_simulation()"
   ]
  },
  {
   "cell_type": "code",
   "execution_count": 40,
   "metadata": {},
   "outputs": [
    {
     "data": {
      "text/plain": [
       "<AxesSubplot:title={'center':'Distribution of Final Cumuluative Returns Across All 500 Simulations'}, ylabel='Frequency'>"
      ]
     },
     "execution_count": 40,
     "metadata": {},
     "output_type": "execute_result"
    },
    {
     "data": {
      "image/png": "[encoded data removed]",
      "text/plain": [
       "<Figure size 432x288 with 1 Axes>"
      ]
     },
     "metadata": {
      "needs_background": "light"
     },
     "output_type": "display_data"
    }
   ],
   "source": [
    "# Visualize the probability distribution of the 10-year Monte Carlo simulation \n",
    "# by plotting a histogram\n",
    "ten_year_simulation.plot_distribution()\n"
   ]
  },
  {
   "cell_type": "code",
   "execution_count": 41,
   "metadata": {},
   "outputs": [
    {
     "data": {
      "text/plain": [
       "count           500.000000\n",
       "mean              4.507405\n",
       "std               1.283335\n",
       "min               2.048672\n",
       "25%               3.552285\n",
       "50%               4.338490\n",
       "75%               5.297036\n",
       "max               9.637028\n",
       "95% CI Lower      2.458394\n",
       "95% CI Upper      7.593682\n",
       "Name: 2520, dtype: float64"
      ]
     },
     "execution_count": 41,
     "metadata": {},
     "output_type": "execute_result"
    }
   ],
   "source": [
    "# Generate summary statistics from the 10-year Monte Carlo simulation results\n",
    "# Save the results as a variable\n",
    "ten_tbl=ten_year_simulation.summarize_cumulative_return()\n",
    "\n",
    "\n",
    "# Review the 10-year Monte Carlo summary statistics\n",
    "ten_tbl"
   ]
  },
  {
   "cell_type": "markdown",
   "metadata": {},
   "source": [
    "### Answer the following questions:"
   ]
  },
  {
   "cell_type": "markdown",
   "metadata": {},
   "source": [
    "#### Question: Using the current value of only the stock and bond portion of the member's portfolio and the summary statistics that you generated from the new Monte Carlo simulation, what are the lower and upper bounds for the expected value of the portfolio (with the new weights) with a 95% confidence interval?"
   ]
  },
  {
   "cell_type": "code",
   "execution_count": 42,
   "metadata": {},
   "outputs": [
    {
     "name": "stdout",
     "output_type": "stream",
     "text": [
      "The current balance of the stock and bond portion of the portfolio is: $72667.10\n"
     ]
    }
   ],
   "source": [
    "# Print the current balance of the stock and bond portion of the members portfolio\n",
    "print(f'The current balance of the stock and bond portion of the portfolio is: ${total_stocks_bonds:.2f}')"
   ]
  },
  {
   "cell_type": "code",
   "execution_count": 43,
   "metadata": {},
   "outputs": [
    {
     "name": "stdout",
     "output_type": "stream",
     "text": [
      "There is a 95% chance that your current stock/bond portfolio over the next ten years will end within in the range of $178644.35 and $551810.81.\n"
     ]
    }
   ],
   "source": [
    "# Use the lower and upper `95%` confidence intervals to calculate the range of the possible outcomes for the current stock/bond portfolio\n",
    "ci_lower_ten_cumulative_return = round(ten_tbl[8] * total_stocks_bonds,2)\n",
    "ci_upper_ten_cumulative_return = round(ten_tbl[9] * total_stocks_bonds,2)\n",
    "\n",
    "# Print the result of your calculations\n",
    "print(f\"There is a 95% chance that your current stock/bond portfolio\"\n",
    "      f\" over the next ten years will end within in the range of\"\n",
    "      f\" ${ci_lower_ten_cumulative_return} and ${ci_upper_ten_cumulative_return}.\")\n"
   ]
  },
  {
   "cell_type": "markdown",
   "metadata": {},
   "source": [
    "#### Question: Will weighting the portfolio more heavily to stocks allow the credit union members to retire after only 10 years?"
   ]
  },
  {
   "cell_type": "raw",
   "metadata": {},
   "source": [
    "**Answer** It depends on the credit union member's age, life expectancy and lifestyle. Based on the summary statistics for the ten year analysis, the current portfolio has a 95% probability to grow 2.89% to 8.63% versus 95% probability to grow 17.46% to 71.11% for the 30 year analysis."
   ]
  }
 ],
 "metadata": {
  "kernelspec": {
   "display_name": "Python 3",
   "language": "python",
   "name": "python3"
  },
  "language_info": {
   "codemirror_mode": {
    "name": "ipython",
    "version": 3
   },
   "file_extension": ".py",
   "mimetype": "text/x-python",
   "name": "python",
   "nbconvert_exporter": "python",
   "pygments_lexer": "ipython3",
   "version": "3.7.10"
  }
 },
 "nbformat": 4,
 "nbformat_minor": 4
}
